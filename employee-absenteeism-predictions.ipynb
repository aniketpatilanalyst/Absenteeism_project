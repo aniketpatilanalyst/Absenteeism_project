{
 "cells": [
  {
   "cell_type": "markdown",
   "execution_count": null,
   "metadata": {},
   "source": [
    "# **Classification based predictive model for absenteeism of employees at work**"
   ]
  },
  {
   "cell_type": "markdown",
   "execution_count": null,
   "metadata": {},
   "source": [
    "* Employees with low performance cause a vital lose for organizations and the absenteeism consider to be one of the factors that affect performance So, understanding the causes of absenteeism may power the organization with a competitive advantages tool and open the area of research for computer and human resources fields. \n",
    "* The aim of this analysis is to discover the factors and causes of employees absence using computerized technologies.\n",
    "* Original dataset is available at https://archive.ics.uci.edu/ml/datasets/Absenteeism+at+work\n",
    "\n",
    "![Employees](http://bbrc.in/bbrc/wp-content/uploads/2019/02/fig1_opt-7.jpeg)"
   ]
  },
  {
   "cell_type": "markdown",
   "execution_count": null,
   "metadata": {},
   "source": [
    "# 1. Import and Clean Data\n",
    ">The first step is to import and clean the data for analysis. The process of cleaning might vary based on the quality and size of the dataset."
   ]
  },
  {
   "cell_type": "code",
   "execution_count": 1,
   "metadata": {},
   "outputs": [
    {
     "name": "stdout",
     "output_type": "stream",
     "text": [
      "Collecting treeinterpreter\r\n",
      "  Downloading treeinterpreter-0.2.2-py2.py3-none-any.whl (6.2 kB)\r\n",
      "Installing collected packages: treeinterpreter\r\n",
      "Successfully installed treeinterpreter-0.2.2\r\n",
      "Note: you may need to restart the kernel to use updated packages.\n"
     ]
    }
   ],
   "source": [
    "pip install treeinterpreter"
   ]
  },
  {
   "cell_type": "markdown",
   "execution_count": null,
   "metadata": {},
   "source": [
    "> Allows decomposing each prediction into `bias` and `feature contribution` components as described in http://blog.datadive.net/interpreting-random-forests/"
   ]
  },
  {
   "cell_type": "code",
   "execution_count": 2,
   "metadata": {},
   "outputs": [],
   "source": [
    "import warnings\n",
    "warnings.filterwarnings(\"ignore\")\n",
    "\n",
    "%matplotlib inline\n",
    "import pandas as pd\n",
    "import matplotlib.pyplot as plt\n",
    "#from statsmodels.graphics import tsaplots\n",
    "#import statsmodels.api as sm\n",
    "import seaborn as sns\n",
    "import numpy as np\n",
    "#import calendar\n",
    "from sklearn.model_selection import train_test_split\n",
    "from sklearn.ensemble import RandomForestRegressor, RandomForestClassifier\n",
    "from sklearn.metrics import r2_score, mean_squared_error as MSE\n",
    "#from scipy.stats import spearmanr, pearsonr\n",
    "from sklearn import metrics\n",
    "from sklearn.metrics import classification_report\n",
    "from scipy.cluster import hierarchy as hc\n",
    "import scipy\n",
    "from treeinterpreter import treeinterpreter as ti\n",
    "from collections import Counter"
   ]
  },
  {
   "cell_type": "code",
   "execution_count": 3,
   "metadata": {},
   "outputs": [],
   "source": [
    "plt.style.use('fivethirtyeight')"
   ]
  },
  {
   "cell_type": "code",
   "execution_count": 4,
   "metadata": {},
   "outputs": [],
   "source": [
    "df =  pd.read_excel('../input/Absenteeism_at_work_new.xls')"
   ]
  },
  {
   "cell_type": "code",
   "execution_count": 5,
   "metadata": {},
   "outputs": [
    {
     "name": "stdout",
     "output_type": "stream",
     "text": [
      "<class 'pandas.core.frame.DataFrame'>\n",
      "RangeIndex: 740 entries, 0 to 739\n",
      "Data columns (total 23 columns):\n",
      " #   Column                           Non-Null Count  Dtype  \n",
      "---  ------                           --------------  -----  \n",
      " 0   ID                               740 non-null    int64  \n",
      " 1   Reason for absence               740 non-null    int64  \n",
      " 2   Month of absence                 740 non-null    int64  \n",
      " 3   Day of the week                  740 non-null    int64  \n",
      " 4   Seasons                          740 non-null    int64  \n",
      " 5   Transportation expense           740 non-null    int64  \n",
      " 6   Distance from Residence to Work  740 non-null    int64  \n",
      " 7   Service time                     740 non-null    int64  \n",
      " 8   Age                              740 non-null    int64  \n",
      " 9   Work load Average/day            740 non-null    int64  \n",
      " 10  Hit target                       740 non-null    int64  \n",
      " 11  Disciplinary failure             740 non-null    int64  \n",
      " 12  Education                        740 non-null    int64  \n",
      " 13  Son                              740 non-null    int64  \n",
      " 14  Social drinker                   740 non-null    int64  \n",
      " 15  Social smoker                    740 non-null    int64  \n",
      " 16  Pet                              740 non-null    int64  \n",
      " 17  Weight                           740 non-null    int64  \n",
      " 18  Height                           740 non-null    int64  \n",
      " 19  Body mass index                  740 non-null    int64  \n",
      " 20  Absenteeism time in hours        740 non-null    int64  \n",
      " 21  Unnamed: 21                      1 non-null      float64\n",
      " 22  Unnamed: 22                      1 non-null      float64\n",
      "dtypes: float64(2), int64(21)\n",
      "memory usage: 133.1 KB\n"
     ]
    }
   ],
   "source": [
    "df.info()"
   ]
  },
  {
   "cell_type": "markdown",
   "execution_count": null,
   "metadata": {},
   "source": [
    "> The above results shows that this dataset has just 740 rows with the size of 122 KB. One of the column \"Work load Average/day\" has forward slash and we are replacing to avoid unnecessary errors in future."
   ]
  },
  {
   "cell_type": "code",
   "execution_count": 6,
   "metadata": {},
   "outputs": [],
   "source": [
    "df.columns = df.columns.str.replace('/', 'per').str.strip()"
   ]
  },
  {
   "cell_type": "markdown",
   "execution_count": null,
   "metadata": {},
   "source": [
    "> Let us check the data quickly to understand the contents. ID is the unique employee id in the dataset. The below command returns the count of rows for each ID from the dataset."
   ]
  },
  {
   "cell_type": "code",
   "execution_count": 7,
   "metadata": {},
   "outputs": [
    {
     "data": {
      "text/html": [
       "<div>\n",
       "<style scoped>\n",
       "    .dataframe tbody tr th:only-of-type {\n",
       "        vertical-align: middle;\n",
       "    }\n",
       "\n",
       "    .dataframe tbody tr th {\n",
       "        vertical-align: top;\n",
       "    }\n",
       "\n",
       "    .dataframe thead th {\n",
       "        text-align: right;\n",
       "    }\n",
       "</style>\n",
       "<table border=\"1\" class=\"dataframe\">\n",
       "  <thead>\n",
       "    <tr style=\"text-align: right;\">\n",
       "      <th></th>\n",
       "      <th>ID</th>\n",
       "    </tr>\n",
       "    <tr>\n",
       "      <th>ID</th>\n",
       "      <th></th>\n",
       "    </tr>\n",
       "  </thead>\n",
       "  <tbody>\n",
       "    <tr>\n",
       "      <th>1</th>\n",
       "      <td>23</td>\n",
       "    </tr>\n",
       "    <tr>\n",
       "      <th>2</th>\n",
       "      <td>6</td>\n",
       "    </tr>\n",
       "    <tr>\n",
       "      <th>3</th>\n",
       "      <td>113</td>\n",
       "    </tr>\n",
       "    <tr>\n",
       "      <th>4</th>\n",
       "      <td>1</td>\n",
       "    </tr>\n",
       "    <tr>\n",
       "      <th>5</th>\n",
       "      <td>19</td>\n",
       "    </tr>\n",
       "  </tbody>\n",
       "</table>\n",
       "</div>"
      ],
      "text/plain": [
       "     ID\n",
       "ID     \n",
       "1    23\n",
       "2     6\n",
       "3   113\n",
       "4     1\n",
       "5    19"
      ]
     },
     "execution_count": 7,
     "metadata": {},
     "output_type": "execute_result"
    }
   ],
   "source": [
    "df.groupby('ID')[['ID']].count().head()"
   ]
  },
  {
   "cell_type": "markdown",
   "execution_count": null,
   "metadata": {},
   "source": [
    "> The above results shows that this dataset is not a regular attendence dataset. This dataset only has absent hours of the employees for the period.\n",
    "\n",
    "> First step in the cleaning of the dataset is to change the appropriate data types of the columns."
   ]
  },
  {
   "cell_type": "code",
   "execution_count": 8,
   "metadata": {},
   "outputs": [
    {
     "data": {
      "text/plain": [
       "23"
      ]
     },
     "execution_count": 8,
     "metadata": {},
     "output_type": "execute_result"
    }
   ],
   "source": [
    "len(df.columns)"
   ]
  },
  {
   "cell_type": "code",
   "execution_count": 9,
   "metadata": {},
   "outputs": [
    {
     "data": {
      "text/plain": [
       "(740, 23)"
      ]
     },
     "execution_count": 9,
     "metadata": {},
     "output_type": "execute_result"
    }
   ],
   "source": [
    "df.shape"
   ]
  },
  {
   "cell_type": "markdown",
   "execution_count": null,
   "metadata": {},
   "source": [
    "## 1.1 Manually setting up the data types of certain variables for EDA purpose"
   ]
  },
  {
   "cell_type": "code",
   "execution_count": 10,
   "metadata": {},
   "outputs": [
    {
     "data": {
      "text/html": [
       "<div>\n",
       "<style scoped>\n",
       "    .dataframe tbody tr th:only-of-type {\n",
       "        vertical-align: middle;\n",
       "    }\n",
       "\n",
       "    .dataframe tbody tr th {\n",
       "        vertical-align: top;\n",
       "    }\n",
       "\n",
       "    .dataframe thead th {\n",
       "        text-align: right;\n",
       "    }\n",
       "</style>\n",
       "<table border=\"1\" class=\"dataframe\">\n",
       "  <thead>\n",
       "    <tr style=\"text-align: right;\">\n",
       "      <th></th>\n",
       "      <th>ID</th>\n",
       "      <th>Reason for absence</th>\n",
       "      <th>Month of absence</th>\n",
       "      <th>Day of the week</th>\n",
       "      <th>Seasons</th>\n",
       "      <th>Transportation expense</th>\n",
       "      <th>Distance from Residence to Work</th>\n",
       "      <th>Service time</th>\n",
       "      <th>Age</th>\n",
       "      <th>Work load Averageperday</th>\n",
       "      <th>...</th>\n",
       "      <th>Son</th>\n",
       "      <th>Social drinker</th>\n",
       "      <th>Social smoker</th>\n",
       "      <th>Pet</th>\n",
       "      <th>Weight</th>\n",
       "      <th>Height</th>\n",
       "      <th>Body mass index</th>\n",
       "      <th>Absenteeism time in hours</th>\n",
       "      <th>Unnamed: 21</th>\n",
       "      <th>Unnamed: 22</th>\n",
       "    </tr>\n",
       "  </thead>\n",
       "  <tbody>\n",
       "    <tr>\n",
       "      <th>0</th>\n",
       "      <td>11</td>\n",
       "      <td>26</td>\n",
       "      <td>7</td>\n",
       "      <td>3</td>\n",
       "      <td>1</td>\n",
       "      <td>289</td>\n",
       "      <td>36</td>\n",
       "      <td>13</td>\n",
       "      <td>33</td>\n",
       "      <td>239554</td>\n",
       "      <td>...</td>\n",
       "      <td>2</td>\n",
       "      <td>1</td>\n",
       "      <td>0</td>\n",
       "      <td>1</td>\n",
       "      <td>90</td>\n",
       "      <td>172</td>\n",
       "      <td>30</td>\n",
       "      <td>4</td>\n",
       "      <td>NaN</td>\n",
       "      <td>NaN</td>\n",
       "    </tr>\n",
       "    <tr>\n",
       "      <th>1</th>\n",
       "      <td>36</td>\n",
       "      <td>23</td>\n",
       "      <td>7</td>\n",
       "      <td>3</td>\n",
       "      <td>1</td>\n",
       "      <td>118</td>\n",
       "      <td>13</td>\n",
       "      <td>18</td>\n",
       "      <td>50</td>\n",
       "      <td>239554</td>\n",
       "      <td>...</td>\n",
       "      <td>1</td>\n",
       "      <td>1</td>\n",
       "      <td>0</td>\n",
       "      <td>0</td>\n",
       "      <td>98</td>\n",
       "      <td>178</td>\n",
       "      <td>31</td>\n",
       "      <td>6</td>\n",
       "      <td>NaN</td>\n",
       "      <td>NaN</td>\n",
       "    </tr>\n",
       "    <tr>\n",
       "      <th>2</th>\n",
       "      <td>3</td>\n",
       "      <td>23</td>\n",
       "      <td>7</td>\n",
       "      <td>4</td>\n",
       "      <td>1</td>\n",
       "      <td>179</td>\n",
       "      <td>51</td>\n",
       "      <td>18</td>\n",
       "      <td>38</td>\n",
       "      <td>239554</td>\n",
       "      <td>...</td>\n",
       "      <td>0</td>\n",
       "      <td>1</td>\n",
       "      <td>0</td>\n",
       "      <td>0</td>\n",
       "      <td>89</td>\n",
       "      <td>170</td>\n",
       "      <td>31</td>\n",
       "      <td>2</td>\n",
       "      <td>NaN</td>\n",
       "      <td>NaN</td>\n",
       "    </tr>\n",
       "    <tr>\n",
       "      <th>3</th>\n",
       "      <td>7</td>\n",
       "      <td>7</td>\n",
       "      <td>7</td>\n",
       "      <td>5</td>\n",
       "      <td>1</td>\n",
       "      <td>279</td>\n",
       "      <td>5</td>\n",
       "      <td>14</td>\n",
       "      <td>39</td>\n",
       "      <td>239554</td>\n",
       "      <td>...</td>\n",
       "      <td>2</td>\n",
       "      <td>1</td>\n",
       "      <td>1</td>\n",
       "      <td>0</td>\n",
       "      <td>68</td>\n",
       "      <td>168</td>\n",
       "      <td>24</td>\n",
       "      <td>4</td>\n",
       "      <td>NaN</td>\n",
       "      <td>NaN</td>\n",
       "    </tr>\n",
       "    <tr>\n",
       "      <th>4</th>\n",
       "      <td>11</td>\n",
       "      <td>23</td>\n",
       "      <td>7</td>\n",
       "      <td>5</td>\n",
       "      <td>1</td>\n",
       "      <td>289</td>\n",
       "      <td>36</td>\n",
       "      <td>13</td>\n",
       "      <td>33</td>\n",
       "      <td>239554</td>\n",
       "      <td>...</td>\n",
       "      <td>2</td>\n",
       "      <td>1</td>\n",
       "      <td>0</td>\n",
       "      <td>1</td>\n",
       "      <td>90</td>\n",
       "      <td>172</td>\n",
       "      <td>30</td>\n",
       "      <td>2</td>\n",
       "      <td>NaN</td>\n",
       "      <td>NaN</td>\n",
       "    </tr>\n",
       "  </tbody>\n",
       "</table>\n",
       "<p>5 rows × 23 columns</p>\n",
       "</div>"
      ],
      "text/plain": [
       "   ID  Reason for absence  Month of absence  Day of the week  Seasons  \\\n",
       "0  11                  26                 7                3        1   \n",
       "1  36                  23                 7                3        1   \n",
       "2   3                  23                 7                4        1   \n",
       "3   7                   7                 7                5        1   \n",
       "4  11                  23                 7                5        1   \n",
       "\n",
       "   Transportation expense  Distance from Residence to Work  Service time  Age  \\\n",
       "0                     289                               36            13   33   \n",
       "1                     118                               13            18   50   \n",
       "2                     179                               51            18   38   \n",
       "3                     279                                5            14   39   \n",
       "4                     289                               36            13   33   \n",
       "\n",
       "   Work load Averageperday  ...  Son  Social drinker  Social smoker  Pet  \\\n",
       "0                   239554  ...    2               1              0    1   \n",
       "1                   239554  ...    1               1              0    0   \n",
       "2                   239554  ...    0               1              0    0   \n",
       "3                   239554  ...    2               1              1    0   \n",
       "4                   239554  ...    2               1              0    1   \n",
       "\n",
       "   Weight  Height  Body mass index  Absenteeism time in hours  Unnamed: 21  \\\n",
       "0      90     172               30                          4          NaN   \n",
       "1      98     178               31                          6          NaN   \n",
       "2      89     170               31                          2          NaN   \n",
       "3      68     168               24                          4          NaN   \n",
       "4      90     172               30                          2          NaN   \n",
       "\n",
       "   Unnamed: 22  \n",
       "0          NaN  \n",
       "1          NaN  \n",
       "2          NaN  \n",
       "3          NaN  \n",
       "4          NaN  \n",
       "\n",
       "[5 rows x 23 columns]"
      ]
     },
     "execution_count": 10,
     "metadata": {},
     "output_type": "execute_result"
    }
   ],
   "source": [
    "df.head()"
   ]
  },
  {
   "cell_type": "code",
   "execution_count": 11,
   "metadata": {},
   "outputs": [],
   "source": [
    "df['Social drinker'] = df['Social drinker'].astype('bool')\n",
    "df['Social smoker'] = df['Social smoker'].astype('bool')\n",
    "df['Disciplinary failure'] = df['Disciplinary failure'].astype('bool')\n",
    "df['Seasons'] = df['Seasons'].astype('category')\n",
    "df['Education'] = df['Education'].astype('category')\n",
    "df['Day of the week'] = df['Day of the week'].astype('category')\n",
    "df['Month of absence'] = df['Month of absence'].astype('category')\n",
    "df['Reason for absence'] = df['Reason for absence'].astype('category')"
   ]
  },
  {
   "cell_type": "code",
   "execution_count": 12,
   "metadata": {},
   "outputs": [
    {
     "name": "stdout",
     "output_type": "stream",
     "text": [
      "<class 'pandas.core.frame.DataFrame'>\n",
      "RangeIndex: 740 entries, 0 to 739\n",
      "Data columns (total 23 columns):\n",
      " #   Column                           Non-Null Count  Dtype   \n",
      "---  ------                           --------------  -----   \n",
      " 0   ID                               740 non-null    int64   \n",
      " 1   Reason for absence               740 non-null    category\n",
      " 2   Month of absence                 740 non-null    category\n",
      " 3   Day of the week                  740 non-null    category\n",
      " 4   Seasons                          740 non-null    category\n",
      " 5   Transportation expense           740 non-null    int64   \n",
      " 6   Distance from Residence to Work  740 non-null    int64   \n",
      " 7   Service time                     740 non-null    int64   \n",
      " 8   Age                              740 non-null    int64   \n",
      " 9   Work load Averageperday          740 non-null    int64   \n",
      " 10  Hit target                       740 non-null    int64   \n",
      " 11  Disciplinary failure             740 non-null    bool    \n",
      " 12  Education                        740 non-null    category\n",
      " 13  Son                              740 non-null    int64   \n",
      " 14  Social drinker                   740 non-null    bool    \n",
      " 15  Social smoker                    740 non-null    bool    \n",
      " 16  Pet                              740 non-null    int64   \n",
      " 17  Weight                           740 non-null    int64   \n",
      " 18  Height                           740 non-null    int64   \n",
      " 19  Body mass index                  740 non-null    int64   \n",
      " 20  Absenteeism time in hours        740 non-null    int64   \n",
      " 21  Unnamed: 21                      1 non-null      float64 \n",
      " 22  Unnamed: 22                      1 non-null      float64 \n",
      "dtypes: bool(3), category(5), float64(2), int64(13)\n",
      "memory usage: 95.4 KB\n"
     ]
    }
   ],
   "source": [
    "df.info()"
   ]
  },
  {
   "cell_type": "markdown",
   "execution_count": null,
   "metadata": {},
   "source": [
    "> After changing the datatype of few columns you can notice the size of the dataset reduced from 122KB to 84KB.\n",
    "The next step is to check whether there is any missing values in the dataset."
   ]
  },
  {
   "cell_type": "code",
   "execution_count": 13,
   "metadata": {},
   "outputs": [
    {
     "data": {
      "text/plain": [
       "ID                                   0\n",
       "Reason for absence                   0\n",
       "Month of absence                     0\n",
       "Day of the week                      0\n",
       "Seasons                              0\n",
       "Transportation expense               0\n",
       "Distance from Residence to Work      0\n",
       "Service time                         0\n",
       "Age                                  0\n",
       "Work load Averageperday              0\n",
       "Hit target                           0\n",
       "Disciplinary failure                 0\n",
       "Education                            0\n",
       "Son                                  0\n",
       "Social drinker                       0\n",
       "Social smoker                        0\n",
       "Pet                                  0\n",
       "Weight                               0\n",
       "Height                               0\n",
       "Body mass index                      0\n",
       "Absenteeism time in hours            0\n",
       "Unnamed: 21                        739\n",
       "Unnamed: 22                        739\n",
       "dtype: int64"
      ]
     },
     "execution_count": 13,
     "metadata": {},
     "output_type": "execute_result"
    }
   ],
   "source": [
    "df.isnull().sum()"
   ]
  },
  {
   "cell_type": "markdown",
   "execution_count": null,
   "metadata": {},
   "source": [
    "> Looks like there is no missing value in the dataset. Now we have to check the valid values in the dataset. There is no specific logic to this process. If there is any datetime value, need to check invalid date time values. If there are numeric values, need to check the outliers. Check the distribution of values etc.,"
   ]
  },
  {
   "cell_type": "code",
   "execution_count": 14,
   "metadata": {},
   "outputs": [
    {
     "data": {
      "text/plain": [
       "<bound method NDFrame.describe of 0      4\n",
       "1      6\n",
       "2      2\n",
       "3      4\n",
       "4      2\n",
       "      ..\n",
       "735    8\n",
       "736    4\n",
       "737    4\n",
       "738    8\n",
       "739    4\n",
       "Name: Absenteeism time in hours, Length: 740, dtype: int64>"
      ]
     },
     "execution_count": 14,
     "metadata": {},
     "output_type": "execute_result"
    }
   ],
   "source": [
    "df['Absenteeism time in hours'].describe"
   ]
  },
  {
   "cell_type": "code",
   "execution_count": 15,
   "metadata": {},
   "outputs": [
    {
     "data": {
      "text/html": [
       "<div>\n",
       "<style scoped>\n",
       "    .dataframe tbody tr th:only-of-type {\n",
       "        vertical-align: middle;\n",
       "    }\n",
       "\n",
       "    .dataframe tbody tr th {\n",
       "        vertical-align: top;\n",
       "    }\n",
       "\n",
       "    .dataframe thead th {\n",
       "        text-align: right;\n",
       "    }\n",
       "</style>\n",
       "<table border=\"1\" class=\"dataframe\">\n",
       "  <thead>\n",
       "    <tr style=\"text-align: right;\">\n",
       "      <th></th>\n",
       "      <th>ID</th>\n",
       "      <th>Reason for absence</th>\n",
       "      <th>Month of absence</th>\n",
       "      <th>Day of the week</th>\n",
       "      <th>Seasons</th>\n",
       "      <th>Transportation expense</th>\n",
       "      <th>Distance from Residence to Work</th>\n",
       "      <th>Service time</th>\n",
       "      <th>Age</th>\n",
       "      <th>Work load Averageperday</th>\n",
       "      <th>...</th>\n",
       "      <th>Son</th>\n",
       "      <th>Social drinker</th>\n",
       "      <th>Social smoker</th>\n",
       "      <th>Pet</th>\n",
       "      <th>Weight</th>\n",
       "      <th>Height</th>\n",
       "      <th>Body mass index</th>\n",
       "      <th>Absenteeism time in hours</th>\n",
       "      <th>Unnamed: 21</th>\n",
       "      <th>Unnamed: 22</th>\n",
       "    </tr>\n",
       "  </thead>\n",
       "  <tbody>\n",
       "    <tr>\n",
       "      <th>737</th>\n",
       "      <td>4</td>\n",
       "      <td>23</td>\n",
       "      <td>0</td>\n",
       "      <td>3</td>\n",
       "      <td>1</td>\n",
       "      <td>118</td>\n",
       "      <td>14</td>\n",
       "      <td>13</td>\n",
       "      <td>40</td>\n",
       "      <td>271219</td>\n",
       "      <td>...</td>\n",
       "      <td>1</td>\n",
       "      <td>True</td>\n",
       "      <td>False</td>\n",
       "      <td>8</td>\n",
       "      <td>98</td>\n",
       "      <td>170</td>\n",
       "      <td>34</td>\n",
       "      <td>4</td>\n",
       "      <td>NaN</td>\n",
       "      <td>NaN</td>\n",
       "    </tr>\n",
       "    <tr>\n",
       "      <th>738</th>\n",
       "      <td>8</td>\n",
       "      <td>23</td>\n",
       "      <td>0</td>\n",
       "      <td>4</td>\n",
       "      <td>2</td>\n",
       "      <td>231</td>\n",
       "      <td>35</td>\n",
       "      <td>14</td>\n",
       "      <td>39</td>\n",
       "      <td>271219</td>\n",
       "      <td>...</td>\n",
       "      <td>2</td>\n",
       "      <td>True</td>\n",
       "      <td>False</td>\n",
       "      <td>2</td>\n",
       "      <td>100</td>\n",
       "      <td>170</td>\n",
       "      <td>35</td>\n",
       "      <td>8</td>\n",
       "      <td>NaN</td>\n",
       "      <td>NaN</td>\n",
       "    </tr>\n",
       "    <tr>\n",
       "      <th>739</th>\n",
       "      <td>35</td>\n",
       "      <td>23</td>\n",
       "      <td>0</td>\n",
       "      <td>6</td>\n",
       "      <td>3</td>\n",
       "      <td>179</td>\n",
       "      <td>45</td>\n",
       "      <td>14</td>\n",
       "      <td>53</td>\n",
       "      <td>271219</td>\n",
       "      <td>...</td>\n",
       "      <td>1</td>\n",
       "      <td>False</td>\n",
       "      <td>False</td>\n",
       "      <td>1</td>\n",
       "      <td>77</td>\n",
       "      <td>175</td>\n",
       "      <td>25</td>\n",
       "      <td>4</td>\n",
       "      <td>NaN</td>\n",
       "      <td>NaN</td>\n",
       "    </tr>\n",
       "  </tbody>\n",
       "</table>\n",
       "<p>3 rows × 23 columns</p>\n",
       "</div>"
      ],
      "text/plain": [
       "     ID Reason for absence Month of absence Day of the week Seasons  \\\n",
       "737   4                 23                0               3       1   \n",
       "738   8                 23                0               4       2   \n",
       "739  35                 23                0               6       3   \n",
       "\n",
       "     Transportation expense  Distance from Residence to Work  Service time  \\\n",
       "737                     118                               14            13   \n",
       "738                     231                               35            14   \n",
       "739                     179                               45            14   \n",
       "\n",
       "     Age  Work load Averageperday  ...  Son  Social drinker Social smoker  \\\n",
       "737   40                   271219  ...    1            True         False   \n",
       "738   39                   271219  ...    2            True         False   \n",
       "739   53                   271219  ...    1           False         False   \n",
       "\n",
       "     Pet  Weight  Height  Body mass index  Absenteeism time in hours  \\\n",
       "737    8      98     170               34                          4   \n",
       "738    2     100     170               35                          8   \n",
       "739    1      77     175               25                          4   \n",
       "\n",
       "     Unnamed: 21  Unnamed: 22  \n",
       "737          NaN          NaN  \n",
       "738          NaN          NaN  \n",
       "739          NaN          NaN  \n",
       "\n",
       "[3 rows x 23 columns]"
      ]
     },
     "execution_count": 15,
     "metadata": {},
     "output_type": "execute_result"
    }
   ],
   "source": [
    "df[df['Month of absence']==0]"
   ]
  },
  {
   "cell_type": "markdown",
   "execution_count": null,
   "metadata": {},
   "source": [
    "> Now let us check the invalid values in the target variable."
   ]
  },
  {
   "cell_type": "code",
   "execution_count": 16,
   "metadata": {},
   "outputs": [
    {
     "data": {
      "text/plain": [
       "Absenteeism time in hours    2.362319\n",
       "dtype: float64"
      ]
     },
     "execution_count": 16,
     "metadata": {},
     "output_type": "execute_result"
    }
   ],
   "source": [
    "df[df['Reason for absence']==27][['Absenteeism time in hours']].mean()"
   ]
  },
  {
   "cell_type": "markdown",
   "execution_count": null,
   "metadata": {},
   "source": [
    "> We can see the mean value for Reason 27 and let us update Absenteeism hours as 3 for this row."
   ]
  },
  {
   "cell_type": "code",
   "execution_count": 17,
   "metadata": {},
   "outputs": [],
   "source": [
    "df.loc[(df['Reason for absence']==27) & (df['Absenteeism time in hours']==0),'Absenteeism time in hours']=3"
   ]
  },
  {
   "cell_type": "markdown",
   "execution_count": null,
   "metadata": {},
   "source": [
    ">After updating the value for the above row, now we can update Absenteeism in hours as 8 for all the rows with Disciplinary failure."
   ]
  },
  {
   "cell_type": "code",
   "execution_count": 18,
   "metadata": {},
   "outputs": [],
   "source": [
    "df.loc[(df['Absenteeism time in hours']==0),'Absenteeism time in hours']=8"
   ]
  },
  {
   "cell_type": "code",
   "execution_count": 19,
   "metadata": {},
   "outputs": [
    {
     "data": {
      "text/plain": [
       "221"
      ]
     },
     "execution_count": 19,
     "metadata": {},
     "output_type": "execute_result"
    }
   ],
   "source": [
    "len(df[df['Absenteeism time in hours']==8])"
   ]
  },
  {
   "cell_type": "code",
   "execution_count": 20,
   "metadata": {},
   "outputs": [],
   "source": [
    "dd = df[df['Absenteeism time in hours']==8]"
   ]
  },
  {
   "cell_type": "code",
   "execution_count": 21,
   "metadata": {},
   "outputs": [
    {
     "data": {
      "text/plain": [
       "0    22\n",
       "Name: Reason for absence, dtype: category\n",
       "Categories (27, int64): [1, 2, 3, 4, ..., 25, 26, 27, 28]"
      ]
     },
     "execution_count": 21,
     "metadata": {},
     "output_type": "execute_result"
    }
   ],
   "source": [
    "dd['Reason for absence'].mode()"
   ]
  },
  {
   "cell_type": "markdown",
   "execution_count": null,
   "metadata": {},
   "source": [
    ">We performed some data cleaning in excel which are not specified here\n",
    "\n",
    ">But if you need the cleaned dataset use this one =>=>=> https://www.kaggle.com/miracle9to9/absenteeism-dataset"
   ]
  },
  {
   "cell_type": "markdown",
   "execution_count": null,
   "metadata": {},
   "source": [
    ">After checking the zero values in Absenteeism in hours column, let us get ready for Exploratory Data Analysis. It's better to add additional columns for visualization as this dataset has only numeric values."
   ]
  },
  {
   "cell_type": "code",
   "execution_count": 22,
   "metadata": {},
   "outputs": [
    {
     "data": {
      "text/html": [
       "<div>\n",
       "<style scoped>\n",
       "    .dataframe tbody tr th:only-of-type {\n",
       "        vertical-align: middle;\n",
       "    }\n",
       "\n",
       "    .dataframe tbody tr th {\n",
       "        vertical-align: top;\n",
       "    }\n",
       "\n",
       "    .dataframe thead th {\n",
       "        text-align: right;\n",
       "    }\n",
       "</style>\n",
       "<table border=\"1\" class=\"dataframe\">\n",
       "  <thead>\n",
       "    <tr style=\"text-align: right;\">\n",
       "      <th></th>\n",
       "      <th>Seasons</th>\n",
       "      <th>season_name</th>\n",
       "    </tr>\n",
       "  </thead>\n",
       "  <tbody>\n",
       "    <tr>\n",
       "      <th>0</th>\n",
       "      <td>1</td>\n",
       "      <td>Summer</td>\n",
       "    </tr>\n",
       "    <tr>\n",
       "      <th>49</th>\n",
       "      <td>4</td>\n",
       "      <td>Spring</td>\n",
       "    </tr>\n",
       "    <tr>\n",
       "      <th>111</th>\n",
       "      <td>2</td>\n",
       "      <td>Autumn</td>\n",
       "    </tr>\n",
       "    <tr>\n",
       "      <th>175</th>\n",
       "      <td>3</td>\n",
       "      <td>Winter</td>\n",
       "    </tr>\n",
       "  </tbody>\n",
       "</table>\n",
       "</div>"
      ],
      "text/plain": [
       "    Seasons season_name\n",
       "0         1      Summer\n",
       "49        4      Spring\n",
       "111       2      Autumn\n",
       "175       3      Winter"
      ]
     },
     "execution_count": 22,
     "metadata": {},
     "output_type": "execute_result"
    }
   ],
   "source": [
    "season_mapping = {1:'Summer', 2:'Autumn', 3:'Winter', 4:'Spring'}\n",
    "df['season_name'] = df.Seasons.map(season_mapping)\n",
    "df['season_name'] = df['season_name'].astype('category')\n",
    "df.drop_duplicates(['Seasons', 'season_name'])[['Seasons','season_name']]"
   ]
  },
  {
   "cell_type": "markdown",
   "execution_count": null,
   "metadata": {},
   "source": [
    ">The above will have Season Name along with Season and the below command will have Month names."
   ]
  },
  {
   "cell_type": "code",
   "execution_count": 23,
   "metadata": {},
   "outputs": [],
   "source": [
    "import calendar\n",
    "df['month_name'] =  df['Month of absence'].apply(lambda x: calendar.month_abbr[x])"
   ]
  },
  {
   "cell_type": "code",
   "execution_count": 24,
   "metadata": {},
   "outputs": [],
   "source": [
    "reason_mapping = {\n",
    "    0: 'Unknown',\n",
    "    1: 'Certain infectious and parasitic diseases',\n",
    "    2: 'Neoplasms',\n",
    "    3: 'Diseases of the blood and blood-forming organs and certain disorders involving the immune mechanism',\n",
    "    4: 'Endocrine, nutritional and metabolic diseases',\n",
    "    5: 'Mental and behavioural disorders',\n",
    "    6: 'Diseases of the nervous system',\n",
    "    7: 'Diseases of the eye and adnexa',\n",
    "    8: 'Diseases of the ear and mastoid process',\n",
    "    9: 'Diseases of the circulatory system',\n",
    "    10: 'Diseases of the respiratory system',\n",
    "    11: 'Diseases of the digestive system',\n",
    "    12: 'Diseases of the skin and subcutaneous tissue',\n",
    "    13: 'Diseases of the musculoskeletal system and connective tissue',\n",
    "    14: 'Diseases of the genitourinary system',\n",
    "    15: 'Pregnancy, childbirth and the puerperium',\n",
    "    16: 'Certain conditions originating in the perinatal period',\n",
    "    17: 'Congenital malformations, deformations and chromosomal abnormalities',\n",
    "    18: 'Symptoms, signs and abnormal clinical and laboratory findings, not elsewhere classified',\n",
    "    19: 'Injury, poisoning and certain other consequences of external causes',\n",
    "    20: 'External causes of morbidity and mortality',\n",
    "    21: 'Factors influencing health status and contact with health services',\n",
    "    22: 'Patient follow-up',\n",
    "    23: 'Medical consultation',\n",
    "    24: 'Blood donation',\n",
    "    25: 'Laboratory examination',\n",
    "    26: 'Unjustified absence',\n",
    "    27: 'Physiotherapy',\n",
    "    28: 'Dental consultation'\n",
    "}\n",
    "df['reason_text'] = df['Reason for absence'].map(reason_mapping)"
   ]
  },
  {
   "cell_type": "markdown",
   "execution_count": null,
   "metadata": {},
   "source": [
    "> The above reason is available in the UCI data description document and the below will update the education."
   ]
  },
  {
   "cell_type": "code",
   "execution_count": 25,
   "metadata": {},
   "outputs": [],
   "source": [
    "education_mapping = {\n",
    "    1: 'High School',\n",
    "    2: 'Graduate',\n",
    "    3: 'Post Graduate',\n",
    "    4: 'Master & Doctor'\n",
    "}\n",
    "education_list = {'High School', 'Graduate', 'Post Graduate', 'Master & Doctor'}\n",
    "df['Education_detail'] = df['Education'].map(education_mapping)\n",
    "#df['Education_detail'] = df['Education_detail'].astype('category')\n",
    "category_education = pd.api.types.CategoricalDtype(categories=education_list, ordered=True)\n",
    "df['Education_detail'] = df['Education_detail'].astype(category_education)"
   ]
  },
  {
   "cell_type": "markdown",
   "execution_count": null,
   "metadata": {},
   "source": [
    ">After adding new columns for the reference columns, let us quickly check the first 5 rows from the dataset."
   ]
  },
  {
   "cell_type": "code",
   "execution_count": 26,
   "metadata": {},
   "outputs": [
    {
     "data": {
      "text/html": [
       "<div>\n",
       "<style scoped>\n",
       "    .dataframe tbody tr th:only-of-type {\n",
       "        vertical-align: middle;\n",
       "    }\n",
       "\n",
       "    .dataframe tbody tr th {\n",
       "        vertical-align: top;\n",
       "    }\n",
       "\n",
       "    .dataframe thead th {\n",
       "        text-align: right;\n",
       "    }\n",
       "</style>\n",
       "<table border=\"1\" class=\"dataframe\">\n",
       "  <thead>\n",
       "    <tr style=\"text-align: right;\">\n",
       "      <th></th>\n",
       "      <th>ID</th>\n",
       "      <th>Reason for absence</th>\n",
       "      <th>Month of absence</th>\n",
       "      <th>Day of the week</th>\n",
       "      <th>Seasons</th>\n",
       "      <th>Transportation expense</th>\n",
       "      <th>Distance from Residence to Work</th>\n",
       "      <th>Service time</th>\n",
       "      <th>Age</th>\n",
       "      <th>Work load Averageperday</th>\n",
       "      <th>...</th>\n",
       "      <th>Weight</th>\n",
       "      <th>Height</th>\n",
       "      <th>Body mass index</th>\n",
       "      <th>Absenteeism time in hours</th>\n",
       "      <th>Unnamed: 21</th>\n",
       "      <th>Unnamed: 22</th>\n",
       "      <th>season_name</th>\n",
       "      <th>month_name</th>\n",
       "      <th>reason_text</th>\n",
       "      <th>Education_detail</th>\n",
       "    </tr>\n",
       "  </thead>\n",
       "  <tbody>\n",
       "    <tr>\n",
       "      <th>0</th>\n",
       "      <td>11</td>\n",
       "      <td>26</td>\n",
       "      <td>7</td>\n",
       "      <td>3</td>\n",
       "      <td>1</td>\n",
       "      <td>289</td>\n",
       "      <td>36</td>\n",
       "      <td>13</td>\n",
       "      <td>33</td>\n",
       "      <td>239554</td>\n",
       "      <td>...</td>\n",
       "      <td>90</td>\n",
       "      <td>172</td>\n",
       "      <td>30</td>\n",
       "      <td>4</td>\n",
       "      <td>NaN</td>\n",
       "      <td>NaN</td>\n",
       "      <td>Summer</td>\n",
       "      <td>Jul</td>\n",
       "      <td>Unjustified absence</td>\n",
       "      <td>High School</td>\n",
       "    </tr>\n",
       "    <tr>\n",
       "      <th>1</th>\n",
       "      <td>36</td>\n",
       "      <td>23</td>\n",
       "      <td>7</td>\n",
       "      <td>3</td>\n",
       "      <td>1</td>\n",
       "      <td>118</td>\n",
       "      <td>13</td>\n",
       "      <td>18</td>\n",
       "      <td>50</td>\n",
       "      <td>239554</td>\n",
       "      <td>...</td>\n",
       "      <td>98</td>\n",
       "      <td>178</td>\n",
       "      <td>31</td>\n",
       "      <td>6</td>\n",
       "      <td>NaN</td>\n",
       "      <td>NaN</td>\n",
       "      <td>Summer</td>\n",
       "      <td>Jul</td>\n",
       "      <td>Medical consultation</td>\n",
       "      <td>High School</td>\n",
       "    </tr>\n",
       "    <tr>\n",
       "      <th>2</th>\n",
       "      <td>3</td>\n",
       "      <td>23</td>\n",
       "      <td>7</td>\n",
       "      <td>4</td>\n",
       "      <td>1</td>\n",
       "      <td>179</td>\n",
       "      <td>51</td>\n",
       "      <td>18</td>\n",
       "      <td>38</td>\n",
       "      <td>239554</td>\n",
       "      <td>...</td>\n",
       "      <td>89</td>\n",
       "      <td>170</td>\n",
       "      <td>31</td>\n",
       "      <td>2</td>\n",
       "      <td>NaN</td>\n",
       "      <td>NaN</td>\n",
       "      <td>Summer</td>\n",
       "      <td>Jul</td>\n",
       "      <td>Medical consultation</td>\n",
       "      <td>High School</td>\n",
       "    </tr>\n",
       "    <tr>\n",
       "      <th>3</th>\n",
       "      <td>7</td>\n",
       "      <td>7</td>\n",
       "      <td>7</td>\n",
       "      <td>5</td>\n",
       "      <td>1</td>\n",
       "      <td>279</td>\n",
       "      <td>5</td>\n",
       "      <td>14</td>\n",
       "      <td>39</td>\n",
       "      <td>239554</td>\n",
       "      <td>...</td>\n",
       "      <td>68</td>\n",
       "      <td>168</td>\n",
       "      <td>24</td>\n",
       "      <td>4</td>\n",
       "      <td>NaN</td>\n",
       "      <td>NaN</td>\n",
       "      <td>Summer</td>\n",
       "      <td>Jul</td>\n",
       "      <td>Diseases of the eye and adnexa</td>\n",
       "      <td>High School</td>\n",
       "    </tr>\n",
       "    <tr>\n",
       "      <th>4</th>\n",
       "      <td>11</td>\n",
       "      <td>23</td>\n",
       "      <td>7</td>\n",
       "      <td>5</td>\n",
       "      <td>1</td>\n",
       "      <td>289</td>\n",
       "      <td>36</td>\n",
       "      <td>13</td>\n",
       "      <td>33</td>\n",
       "      <td>239554</td>\n",
       "      <td>...</td>\n",
       "      <td>90</td>\n",
       "      <td>172</td>\n",
       "      <td>30</td>\n",
       "      <td>2</td>\n",
       "      <td>NaN</td>\n",
       "      <td>NaN</td>\n",
       "      <td>Summer</td>\n",
       "      <td>Jul</td>\n",
       "      <td>Medical consultation</td>\n",
       "      <td>High School</td>\n",
       "    </tr>\n",
       "  </tbody>\n",
       "</table>\n",
       "<p>5 rows × 27 columns</p>\n",
       "</div>"
      ],
      "text/plain": [
       "   ID Reason for absence Month of absence Day of the week Seasons  \\\n",
       "0  11                 26                7               3       1   \n",
       "1  36                 23                7               3       1   \n",
       "2   3                 23                7               4       1   \n",
       "3   7                  7                7               5       1   \n",
       "4  11                 23                7               5       1   \n",
       "\n",
       "   Transportation expense  Distance from Residence to Work  Service time  Age  \\\n",
       "0                     289                               36            13   33   \n",
       "1                     118                               13            18   50   \n",
       "2                     179                               51            18   38   \n",
       "3                     279                                5            14   39   \n",
       "4                     289                               36            13   33   \n",
       "\n",
       "   Work load Averageperday  ...  Weight  Height Body mass index  \\\n",
       "0                   239554  ...      90     172              30   \n",
       "1                   239554  ...      98     178              31   \n",
       "2                   239554  ...      89     170              31   \n",
       "3                   239554  ...      68     168              24   \n",
       "4                   239554  ...      90     172              30   \n",
       "\n",
       "   Absenteeism time in hours  Unnamed: 21  Unnamed: 22  season_name  \\\n",
       "0                          4          NaN          NaN       Summer   \n",
       "1                          6          NaN          NaN       Summer   \n",
       "2                          2          NaN          NaN       Summer   \n",
       "3                          4          NaN          NaN       Summer   \n",
       "4                          2          NaN          NaN       Summer   \n",
       "\n",
       "   month_name                     reason_text  Education_detail  \n",
       "0         Jul             Unjustified absence       High School  \n",
       "1         Jul            Medical consultation       High School  \n",
       "2         Jul            Medical consultation       High School  \n",
       "3         Jul  Diseases of the eye and adnexa       High School  \n",
       "4         Jul            Medical consultation       High School  \n",
       "\n",
       "[5 rows x 27 columns]"
      ]
     },
     "execution_count": 26,
     "metadata": {},
     "output_type": "execute_result"
    }
   ],
   "source": [
    "df.head()"
   ]
  },
  {
   "cell_type": "markdown",
   "execution_count": null,
   "metadata": {},
   "source": [
    "# 2. Exploratory Data Analysis"
   ]
  },
  {
   "cell_type": "markdown",
   "execution_count": null,
   "metadata": {},
   "source": [
    "### 2.1 Agewise Employee Count"
   ]
  },
  {
   "cell_type": "markdown",
   "execution_count": null,
   "metadata": {},
   "source": [
    ">Let us check the employee counts by Age. Notice one minor hack to count the unique IDs. As the employee count are almost similar, we are not able to decipher much."
   ]
  },
  {
   "cell_type": "code",
   "execution_count": 27,
   "metadata": {},
   "outputs": [
    {
     "data": {
      "image/png": "[encoded data removed]",
      "text/plain": [
       "<Figure size 576x288 with 1 Axes>"
      ]
     },
     "metadata": {},
     "output_type": "display_data"
    }
   ],
   "source": [
    "age_count = df.groupby(['Age']).agg({'ID': pd.Series.nunique})\n",
    "ax = age_count.plot(kind='bar', figsize=(8,4), legend=False)\n",
    "for i, v in enumerate(age_count.values):\n",
    "    ax.text(i-.25, v +0.2, str(v[0]), color='red')\n",
    "ax.set_xlabel('Age')\n",
    "ax.set_ylabel('Count of employees')\n",
    "ax.set_title('Agewise count of employees')\n",
    "plt.show()"
   ]
  },
  {
   "cell_type": "markdown",
   "execution_count": null,
   "metadata": {},
   "source": [
    "### 2.2 Educationwise Employee Count"
   ]
  },
  {
   "cell_type": "markdown",
   "execution_count": null,
   "metadata": {},
   "source": [
    "> The below graph shows that High School educated employees are higher than the rest."
   ]
  },
  {
   "cell_type": "code",
   "execution_count": 28,
   "metadata": {},
   "outputs": [
    {
     "data": {
      "image/png": "[encoded data removed]",
      "text/plain": [
       "<Figure size 576x360 with 1 Axes>"
      ]
     },
     "metadata": {},
     "output_type": "display_data"
    }
   ],
   "source": [
    "edu_count = df.groupby(['Education_detail']).agg({'ID': pd.Series.nunique})\n",
    "ax = edu_count.plot(kind='bar', figsize=(8,5), legend=False)\n",
    "for i, v in enumerate(edu_count.values):\n",
    "    ax.text(i-.15, v + 1, str(v[0]), color='red')\n",
    "ax.set_xlabel('Education')\n",
    "ax.set_ylabel('Count')\n",
    "ax.set_title('Educationwise count of employees')\n",
    "plt.show()"
   ]
  },
  {
   "cell_type": "markdown",
   "execution_count": null,
   "metadata": {},
   "source": [
    "### 2.3 Average work load by Age"
   ]
  },
  {
   "cell_type": "markdown",
   "execution_count": null,
   "metadata": {},
   "source": [
    ">The work load seems to be same irrespective of the age."
   ]
  },
  {
   "cell_type": "code",
   "execution_count": 29,
   "metadata": {},
   "outputs": [
    {
     "data": {
      "image/png": "[encoded data removed]",
      "text/plain": [
       "<Figure size 576x432 with 1 Axes>"
      ]
     },
     "metadata": {},
     "output_type": "display_data"
    }
   ],
   "source": [
    "age_work_sum = df.groupby('Age', as_index=False)[['Work load Averageperday']].mean()\n",
    "ax = age_work_sum.plot(kind='bar', x='Age', figsize=(8,6), legend=False)\n",
    "ax.set_ylabel('Work load average per day')\n",
    "ax.set_title('Average work load per day by age')\n",
    "plt.show()"
   ]
  },
  {
   "cell_type": "markdown",
   "execution_count": null,
   "metadata": {},
   "source": [
    "### 2.4 Average Absenteeism hours by Age"
   ]
  },
  {
   "cell_type": "markdown",
   "execution_count": null,
   "metadata": {},
   "source": [
    ">Absenteeism seems to be same across Age except for one age."
   ]
  },
  {
   "cell_type": "code",
   "execution_count": 30,
   "metadata": {},
   "outputs": [
    {
     "data": {
      "image/png": "[encoded data removed]",
      "text/plain": [
       "<Figure size 576x432 with 1 Axes>"
      ]
     },
     "metadata": {},
     "output_type": "display_data"
    }
   ],
   "source": [
    "age_abs = df.groupby('Age')[['Absenteeism time in hours']].mean()\n",
    "ax = age_abs.plot(kind='bar', figsize=(8,6), legend=False)\n",
    "for i, v in enumerate(age_abs.values):\n",
    "    ax.text(i-.25, v + 1, str(np.int(np.round(v))), color='red')\n",
    "ax.set_ylabel('Absenteeism time in hours')\n",
    "ax.set_title('Average Absenteeism time in hours by age')\n",
    "plt.show()"
   ]
  },
  {
   "cell_type": "markdown",
   "execution_count": null,
   "metadata": {},
   "source": [
    "### 2.5 Average Absenteeism hours by Distance to work"
   ]
  },
  {
   "cell_type": "markdown",
   "execution_count": null,
   "metadata": {},
   "source": [
    ">The hypothesis i have was that if the distance to work increase the absenteeism hours will increase. But the below graph nullifies my hypothesis."
   ]
  },
  {
   "cell_type": "code",
   "execution_count": 31,
   "metadata": {},
   "outputs": [
    {
     "data": {
      "image/png": "[encoded data removed]",
      "text/plain": [
       "<Figure size 576x432 with 1 Axes>"
      ]
     },
     "metadata": {},
     "output_type": "display_data"
    }
   ],
   "source": [
    "dis_abs = df.groupby('Distance from Residence to Work')[['Absenteeism time in hours']].mean()\n",
    "ax = dis_abs.plot(kind='bar', figsize=(8,6), legend=False)\n",
    "for i, v in enumerate(dis_abs.values):\n",
    "    ax.text(i-.25, v + 1, str(np.int(np.round(v))), color='red')\n",
    "ax.set_xlabel('Distance from Residence to Work (km)')\n",
    "ax.set_ylabel('Absenteeism time in hours')\n",
    "ax.set_title('Average Absenteeism time in hours by distance')\n",
    "plt.show()"
   ]
  },
  {
   "cell_type": "markdown",
   "execution_count": null,
   "metadata": {},
   "source": [
    "### 2.6 Average distance to work by Age"
   ]
  },
  {
   "cell_type": "markdown",
   "execution_count": null,
   "metadata": {},
   "source": [
    ">Another hypothesis I had was that higher age employees might stay closer to the office. It might be true till the Age 33, but the other values are not significant to compare."
   ]
  },
  {
   "cell_type": "code",
   "execution_count": 32,
   "metadata": {},
   "outputs": [
    {
     "data": {
      "image/png": "[encoded data removed]",
      "text/plain": [
       "<Figure size 576x432 with 1 Axes>"
      ]
     },
     "metadata": {},
     "output_type": "display_data"
    }
   ],
   "source": [
    "age_dis = df.groupby('Age')[['Distance from Residence to Work']].mean()\n",
    "ax = age_dis.plot(kind='bar', figsize=(8,6), legend=False)\n",
    "for i, v in enumerate(age_dis.values):\n",
    "    ax.text(i-.25, v + 1, str(np.int(np.round(v))), color='red')\n",
    "ax.set_ylabel('Distance from Residence to Work')\n",
    "ax.set_title('Average Distance from Residence to Work by age')\n",
    "plt.show()"
   ]
  },
  {
   "cell_type": "markdown",
   "execution_count": null,
   "metadata": {},
   "source": [
    "### 2.7 Average Transportation expense by Distance"
   ]
  },
  {
   "cell_type": "markdown",
   "execution_count": null,
   "metadata": {},
   "source": [
    ">The transportation expense is not increasing by distance but we don't have transport mode, so this is not helping us."
   ]
  },
  {
   "cell_type": "code",
   "execution_count": 33,
   "metadata": {},
   "outputs": [
    {
     "data": {
      "image/png": "[encoded data removed]",
      "text/plain": [
       "<Figure size 576x432 with 1 Axes>"
      ]
     },
     "metadata": {},
     "output_type": "display_data"
    }
   ],
   "source": [
    "dis_exp = df.groupby('Distance from Residence to Work')[['Transportation expense']].mean()\n",
    "ax = dis_exp.plot(kind='bar', figsize=(8,6), legend=False)\n",
    "for i, v in enumerate(dis_exp.values):\n",
    "    ax.text(i-.45, v + 3, str(np.int(np.round(v))), color='red')\n",
    "ax.set_ylabel('Transportation expense')\n",
    "ax.set_title('Average Transportation expense by distance to work')\n",
    "plt.show()"
   ]
  },
  {
   "cell_type": "markdown",
   "execution_count": null,
   "metadata": {},
   "source": [
    "### 2.8 Pet & Son counts by Age"
   ]
  },
  {
   "cell_type": "markdown",
   "execution_count": null,
   "metadata": {},
   "source": [
    ">The below graph shows that the employees who has Son are mostly having a pet. This is interesting."
   ]
  },
  {
   "cell_type": "code",
   "execution_count": 34,
   "metadata": {},
   "outputs": [
    {
     "data": {
      "image/png": "[encoded data removed]",
      "text/plain": [
       "<Figure size 576x432 with 1 Axes>"
      ]
     },
     "metadata": {},
     "output_type": "display_data"
    }
   ],
   "source": [
    "ax = df.groupby('Age')['Son', 'Pet'].sum().plot(figsize=(8,6))\n",
    "ax.set_ylabel('Count')\n",
    "ax.set_title('Count of Pet & Son by Age')\n",
    "plt.show()"
   ]
  },
  {
   "cell_type": "markdown",
   "execution_count": null,
   "metadata": {},
   "source": [
    "### 2.9 Smoker & Drinker Stats"
   ]
  },
  {
   "cell_type": "markdown",
   "execution_count": null,
   "metadata": {},
   "source": [
    ">How much percentage of Social Drinkers are Social Smokers also?"
   ]
  },
  {
   "cell_type": "code",
   "execution_count": 35,
   "metadata": {},
   "outputs": [
    {
     "data": {
      "text/plain": [
       "0.21052631578947367"
      ]
     },
     "execution_count": 35,
     "metadata": {},
     "output_type": "execute_result"
    }
   ],
   "source": [
    "# % of Social drinker those are smokers\n",
    "emp_social = df.drop_duplicates(['ID', 'Social drinker', 'Social smoker'])[['ID', 'Social drinker', 'Social smoker']]\n",
    "emp_social[emp_social['Social drinker']==True]['Social smoker'].mean()"
   ]
  },
  {
   "cell_type": "markdown",
   "execution_count": null,
   "metadata": {},
   "source": [
    ">How much percentage of Social Smokers are Social Drinkers also?"
   ]
  },
  {
   "cell_type": "code",
   "execution_count": 36,
   "metadata": {},
   "outputs": [
    {
     "data": {
      "text/plain": [
       "0.5714285714285714"
      ]
     },
     "execution_count": 36,
     "metadata": {},
     "output_type": "execute_result"
    }
   ],
   "source": [
    "# % of Social smokers are drinkers\n",
    "emp_social[emp_social['Social smoker']==True]['Social drinker'].mean()"
   ]
  },
  {
   "cell_type": "markdown",
   "execution_count": null,
   "metadata": {},
   "source": [
    "### 2.10 Absenteeism by Social habits"
   ]
  },
  {
   "cell_type": "markdown",
   "execution_count": null,
   "metadata": {},
   "source": [
    ">Looks like 60% of Social drinkers are absent and interestingly 32% of Non-smoker & Non-drinker are also absent."
   ]
  },
  {
   "cell_type": "code",
   "execution_count": 37,
   "metadata": {},
   "outputs": [
    {
     "data": {
      "image/png": "[encoded data removed]",
      "text/plain": [
       "<Figure size 576x432 with 1 Axes>"
      ]
     },
     "metadata": {},
     "output_type": "display_data"
    }
   ],
   "source": [
    "drink_sum = df[(df['Social drinker'] == True) & (df['Social smoker']==False)]['Absenteeism time in hours'].sum()\n",
    "smok_sum = df[(df['Social drinker'] == False) & (df['Social smoker']==True)]['Absenteeism time in hours'].sum()\n",
    "drink_smok_sum = df[(df['Social drinker'] == True) & (df['Social smoker']==True)]['Absenteeism time in hours'].sum()\n",
    "abs_sum = df[(df['Social drinker'] == False) & (df['Social smoker']==False)]['Absenteeism time in hours'].sum()\n",
    "absen = [drink_sum, smok_sum, drink_smok_sum, abs_sum]\n",
    "pie_labels = ['drinker', 'smoker', 'drinker & smoker', 'No drinker/smoker']\n",
    "fig, ax = plt.subplots(figsize=(8, 6), subplot_kw=dict(aspect=\"equal\"))\n",
    "\n",
    "def func(pct, allvals):\n",
    "    absolute = int(pct/100.*np.sum(allvals))\n",
    "    return \"{:.1f}%\\n({:d})\".format(pct, absolute)\n",
    "\n",
    "wedges, texts, autotexts = ax.pie(absen, autopct=lambda pct: func(pct, absen), textprops=dict(color='w'))\n",
    "ax.legend(wedges, pie_labels, title='Social Drinkers/Smokers', loc='right', bbox_to_anchor=(1, 0, 0.5, 1))\n",
    "plt.setp(autotexts, size=10, weight=\"bold\")\n",
    "ax.set_title('Absenteeism by Social Drinkers/Smokers')\n",
    "#plt.pie(absen, labels=pie_labels)\n",
    "plt.show()\n"
   ]
  },
  {
   "cell_type": "markdown",
   "execution_count": null,
   "metadata": {},
   "source": [
    "### 2.11 Absenteeism by Reason"
   ]
  },
  {
   "cell_type": "markdown",
   "execution_count": null,
   "metadata": {},
   "source": [
    ">The below table shows the highest Abseenteeism hours to lowest by Reason. The data is from courier company and the employees needs to deliver the packages and the Top 2 reason for absence shows that.\n",
    "There is one hack to hide the index column."
   ]
  },
  {
   "cell_type": "code",
   "execution_count": 38,
   "metadata": {},
   "outputs": [
    {
     "data": {
      "text/html": [
       "<style  type=\"text/css\" >\n",
       "</style><table id=\"T_9306e38e_bd1d_11ea_a28f_0242ac130202\" ><thead>    <tr>        <th class=\"col_heading level0 col0\" >reason_text</th>        <th class=\"col_heading level0 col1\" >Absenteeism time in hours</th>    </tr></thead><tbody>\n",
       "                <tr>\n",
       "                                <td id=\"T_9306e38e_bd1d_11ea_a28f_0242ac130202row0_col0\" class=\"data row0 col0\" >Medical consultation</td>\n",
       "                        <td id=\"T_9306e38e_bd1d_11ea_a28f_0242ac130202row0_col1\" class=\"data row0 col1\" >642</td>\n",
       "            </tr>\n",
       "            <tr>\n",
       "                                <td id=\"T_9306e38e_bd1d_11ea_a28f_0242ac130202row1_col0\" class=\"data row1 col0\" >Dental consultation</td>\n",
       "                        <td id=\"T_9306e38e_bd1d_11ea_a28f_0242ac130202row1_col1\" class=\"data row1 col1\" >305</td>\n",
       "            </tr>\n",
       "            <tr>\n",
       "                                <td id=\"T_9306e38e_bd1d_11ea_a28f_0242ac130202row2_col0\" class=\"data row2 col0\" >Diseases of the musculoskeletal system and connective tissue</td>\n",
       "                        <td id=\"T_9306e38e_bd1d_11ea_a28f_0242ac130202row2_col1\" class=\"data row2 col1\" >290</td>\n",
       "            </tr>\n",
       "            <tr>\n",
       "                                <td id=\"T_9306e38e_bd1d_11ea_a28f_0242ac130202row3_col0\" class=\"data row3 col0\" >Patient follow-up</td>\n",
       "                        <td id=\"T_9306e38e_bd1d_11ea_a28f_0242ac130202row3_col1\" class=\"data row3 col1\" >283</td>\n",
       "            </tr>\n",
       "            <tr>\n",
       "                                <td id=\"T_9306e38e_bd1d_11ea_a28f_0242ac130202row4_col0\" class=\"data row4 col0\" >Injury, poisoning and certain other consequences of external causes</td>\n",
       "                        <td id=\"T_9306e38e_bd1d_11ea_a28f_0242ac130202row4_col1\" class=\"data row4 col1\" >243</td>\n",
       "            </tr>\n",
       "            <tr>\n",
       "                                <td id=\"T_9306e38e_bd1d_11ea_a28f_0242ac130202row5_col0\" class=\"data row5 col0\" >Unjustified absence</td>\n",
       "                        <td id=\"T_9306e38e_bd1d_11ea_a28f_0242ac130202row5_col1\" class=\"data row5 col1\" >228</td>\n",
       "            </tr>\n",
       "            <tr>\n",
       "                                <td id=\"T_9306e38e_bd1d_11ea_a28f_0242ac130202row6_col0\" class=\"data row6 col0\" >Diseases of the respiratory system</td>\n",
       "                        <td id=\"T_9306e38e_bd1d_11ea_a28f_0242ac130202row6_col1\" class=\"data row6 col1\" >166</td>\n",
       "            </tr>\n",
       "            <tr>\n",
       "                                <td id=\"T_9306e38e_bd1d_11ea_a28f_0242ac130202row7_col0\" class=\"data row7 col0\" >Physiotherapy</td>\n",
       "                        <td id=\"T_9306e38e_bd1d_11ea_a28f_0242ac130202row7_col1\" class=\"data row7 col1\" >163</td>\n",
       "            </tr>\n",
       "            <tr>\n",
       "                                <td id=\"T_9306e38e_bd1d_11ea_a28f_0242ac130202row8_col0\" class=\"data row8 col0\" >Symptoms, signs and abnormal clinical and laboratory findings, not elsewhere classified</td>\n",
       "                        <td id=\"T_9306e38e_bd1d_11ea_a28f_0242ac130202row8_col1\" class=\"data row8 col1\" >142</td>\n",
       "            </tr>\n",
       "            <tr>\n",
       "                                <td id=\"T_9306e38e_bd1d_11ea_a28f_0242ac130202row9_col0\" class=\"data row9 col0\" >Diseases of the digestive system</td>\n",
       "                        <td id=\"T_9306e38e_bd1d_11ea_a28f_0242ac130202row9_col1\" class=\"data row9 col1\" >126</td>\n",
       "            </tr>\n",
       "            <tr>\n",
       "                                <td id=\"T_9306e38e_bd1d_11ea_a28f_0242ac130202row10_col0\" class=\"data row10 col0\" >Certain infectious and parasitic diseases</td>\n",
       "                        <td id=\"T_9306e38e_bd1d_11ea_a28f_0242ac130202row10_col1\" class=\"data row10 col1\" >111</td>\n",
       "            </tr>\n",
       "            <tr>\n",
       "                                <td id=\"T_9306e38e_bd1d_11ea_a28f_0242ac130202row11_col0\" class=\"data row11 col0\" >Laboratory examination</td>\n",
       "                        <td id=\"T_9306e38e_bd1d_11ea_a28f_0242ac130202row11_col1\" class=\"data row11 col1\" >108</td>\n",
       "            </tr>\n",
       "            <tr>\n",
       "                                <td id=\"T_9306e38e_bd1d_11ea_a28f_0242ac130202row12_col0\" class=\"data row12 col0\" >Diseases of the genitourinary system</td>\n",
       "                        <td id=\"T_9306e38e_bd1d_11ea_a28f_0242ac130202row12_col1\" class=\"data row12 col1\" >92</td>\n",
       "            </tr>\n",
       "            <tr>\n",
       "                                <td id=\"T_9306e38e_bd1d_11ea_a28f_0242ac130202row13_col0\" class=\"data row13 col0\" >Diseases of the eye and adnexa</td>\n",
       "                        <td id=\"T_9306e38e_bd1d_11ea_a28f_0242ac130202row13_col1\" class=\"data row13 col1\" >78</td>\n",
       "            </tr>\n",
       "            <tr>\n",
       "                                <td id=\"T_9306e38e_bd1d_11ea_a28f_0242ac130202row14_col0\" class=\"data row14 col0\" >Diseases of the nervous system</td>\n",
       "                        <td id=\"T_9306e38e_bd1d_11ea_a28f_0242ac130202row14_col1\" class=\"data row14 col1\" >56</td>\n",
       "            </tr>\n",
       "            <tr>\n",
       "                                <td id=\"T_9306e38e_bd1d_11ea_a28f_0242ac130202row15_col0\" class=\"data row15 col0\" >Factors influencing health status and contact with health services</td>\n",
       "                        <td id=\"T_9306e38e_bd1d_11ea_a28f_0242ac130202row15_col1\" class=\"data row15 col1\" >35</td>\n",
       "            </tr>\n",
       "            <tr>\n",
       "                                <td id=\"T_9306e38e_bd1d_11ea_a28f_0242ac130202row16_col0\" class=\"data row16 col0\" >Diseases of the ear and mastoid process</td>\n",
       "                        <td id=\"T_9306e38e_bd1d_11ea_a28f_0242ac130202row16_col1\" class=\"data row16 col1\" >32</td>\n",
       "            </tr>\n",
       "            <tr>\n",
       "                                <td id=\"T_9306e38e_bd1d_11ea_a28f_0242ac130202row17_col0\" class=\"data row17 col0\" >Diseases of the skin and subcutaneous tissue</td>\n",
       "                        <td id=\"T_9306e38e_bd1d_11ea_a28f_0242ac130202row17_col1\" class=\"data row17 col1\" >29</td>\n",
       "            </tr>\n",
       "            <tr>\n",
       "                                <td id=\"T_9306e38e_bd1d_11ea_a28f_0242ac130202row18_col0\" class=\"data row18 col0\" >Blood donation</td>\n",
       "                        <td id=\"T_9306e38e_bd1d_11ea_a28f_0242ac130202row18_col1\" class=\"data row18 col1\" >24</td>\n",
       "            </tr>\n",
       "            <tr>\n",
       "                                <td id=\"T_9306e38e_bd1d_11ea_a28f_0242ac130202row19_col0\" class=\"data row19 col0\" >Diseases of the circulatory system</td>\n",
       "                        <td id=\"T_9306e38e_bd1d_11ea_a28f_0242ac130202row19_col1\" class=\"data row19 col1\" >19</td>\n",
       "            </tr>\n",
       "            <tr>\n",
       "                                <td id=\"T_9306e38e_bd1d_11ea_a28f_0242ac130202row20_col0\" class=\"data row20 col0\" >Mental and behavioural disorders</td>\n",
       "                        <td id=\"T_9306e38e_bd1d_11ea_a28f_0242ac130202row20_col1\" class=\"data row20 col1\" >19</td>\n",
       "            </tr>\n",
       "            <tr>\n",
       "                                <td id=\"T_9306e38e_bd1d_11ea_a28f_0242ac130202row21_col0\" class=\"data row21 col0\" >Pregnancy, childbirth and the puerperium</td>\n",
       "                        <td id=\"T_9306e38e_bd1d_11ea_a28f_0242ac130202row21_col1\" class=\"data row21 col1\" >16</td>\n",
       "            </tr>\n",
       "            <tr>\n",
       "                                <td id=\"T_9306e38e_bd1d_11ea_a28f_0242ac130202row22_col0\" class=\"data row22 col0\" >Endocrine, nutritional and metabolic diseases</td>\n",
       "                        <td id=\"T_9306e38e_bd1d_11ea_a28f_0242ac130202row22_col1\" class=\"data row22 col1\" >9</td>\n",
       "            </tr>\n",
       "            <tr>\n",
       "                                <td id=\"T_9306e38e_bd1d_11ea_a28f_0242ac130202row23_col0\" class=\"data row23 col0\" >Congenital malformations, deformations and chromosomal abnormalities</td>\n",
       "                        <td id=\"T_9306e38e_bd1d_11ea_a28f_0242ac130202row23_col1\" class=\"data row23 col1\" >8</td>\n",
       "            </tr>\n",
       "            <tr>\n",
       "                                <td id=\"T_9306e38e_bd1d_11ea_a28f_0242ac130202row24_col0\" class=\"data row24 col0\" >Diseases of the blood and blood-forming organs and certain disorders involving the immune mechanism</td>\n",
       "                        <td id=\"T_9306e38e_bd1d_11ea_a28f_0242ac130202row24_col1\" class=\"data row24 col1\" >8</td>\n",
       "            </tr>\n",
       "            <tr>\n",
       "                                <td id=\"T_9306e38e_bd1d_11ea_a28f_0242ac130202row25_col0\" class=\"data row25 col0\" >Certain conditions originating in the perinatal period</td>\n",
       "                        <td id=\"T_9306e38e_bd1d_11ea_a28f_0242ac130202row25_col1\" class=\"data row25 col1\" >6</td>\n",
       "            </tr>\n",
       "            <tr>\n",
       "                                <td id=\"T_9306e38e_bd1d_11ea_a28f_0242ac130202row26_col0\" class=\"data row26 col0\" >Neoplasms</td>\n",
       "                        <td id=\"T_9306e38e_bd1d_11ea_a28f_0242ac130202row26_col1\" class=\"data row26 col1\" >4</td>\n",
       "            </tr>\n",
       "    </tbody></table>"
      ],
      "text/plain": [
       "<pandas.io.formats.style.Styler at 0x7fe69aad4ad0>"
      ]
     },
     "metadata": {},
     "output_type": "display_data"
    }
   ],
   "source": [
    "reason_abs = df.groupby('reason_text', as_index=False)['Absenteeism time in hours'].sum()\n",
    "with pd.option_context('display.max_colwidth', -1):\n",
    "    display(reason_abs.sort_values('Absenteeism time in hours', ascending=False).style.hide_index())"
   ]
  },
  {
   "cell_type": "markdown",
   "execution_count": null,
   "metadata": {},
   "source": [
    "### 2.12 Absenteeism hours by Seasons"
   ]
  },
  {
   "cell_type": "markdown",
   "execution_count": null,
   "metadata": {},
   "source": [
    ">Looks like winter has highest Absenteeism."
   ]
  },
  {
   "cell_type": "code",
   "execution_count": 39,
   "metadata": {},
   "outputs": [
    {
     "data": {
      "image/png": "[encoded data removed]",
      "text/plain": [
       "<Figure size 432x288 with 1 Axes>"
      ]
     },
     "metadata": {},
     "output_type": "display_data"
    }
   ],
   "source": [
    "season_abs = df.groupby('season_name')['Absenteeism time in hours'].sum()\n",
    "ax = season_abs.plot(kind='bar', figsize=(6,4), legend=False)\n",
    "for i, v in enumerate(season_abs.values):\n",
    "    ax.text(i-.17, v + 35, str(np.int(np.round(v))), color='red')\n",
    "ax.set_xlabel('Seasons')\n",
    "ax.set_ylabel('Sum of Absenteeism hours')\n",
    "ax.set_title('Sum of Absenteeism hours by Seasons')\n",
    "plt.show()"
   ]
  },
  {
   "cell_type": "markdown",
   "execution_count": null,
   "metadata": {},
   "source": [
    "### 2.13 Absenteeism hours by Month"
   ]
  },
  {
   "cell_type": "markdown",
   "execution_count": null,
   "metadata": {},
   "source": [
    ">Getting to detail from Seasons to Month, Looks like March & July has the highest number of Absenteeism hours."
   ]
  },
  {
   "cell_type": "code",
   "execution_count": 40,
   "metadata": {},
   "outputs": [
    {
     "data": {
      "image/png": "[encoded data removed]",
      "text/plain": [
       "<Figure size 576x432 with 1 Axes>"
      ]
     },
     "metadata": {},
     "output_type": "display_data"
    }
   ],
   "source": [
    "month_abs = df.groupby('month_name')['Absenteeism time in hours'].sum()\n",
    "ax = month_abs.plot(kind='bar', figsize=(8,6), legend=False)\n",
    "for i, v in enumerate(month_abs.values):\n",
    "    ax.text(i-0.2, v + 25, str(np.int(np.round(v))), color='red')\n",
    "ax.set_xlabel('Month')\n",
    "ax.set_ylabel('Sum of Absenteeism hours')\n",
    "ax.set_title('Sum of Absenteeism hours by Month')\n",
    "plt.show()"
   ]
  },
  {
   "cell_type": "markdown",
   "execution_count": null,
   "metadata": {},
   "source": [
    "### 2.14 March month Absenteeism hours by Reason"
   ]
  },
  {
   "cell_type": "markdown",
   "execution_count": null,
   "metadata": {},
   "source": [
    ">Let us check the March month reason."
   ]
  },
  {
   "cell_type": "code",
   "execution_count": 41,
   "metadata": {},
   "outputs": [
    {
     "data": {
      "text/html": [
       "<style  type=\"text/css\" >\n",
       "</style><table id=\"T_938e1ffc_bd1d_11ea_a28f_0242ac130202\" ><thead>    <tr>        <th class=\"col_heading level0 col0\" >reason_text</th>        <th class=\"col_heading level0 col1\" >Absenteeism time in hours</th>    </tr></thead><tbody>\n",
       "                <tr>\n",
       "                                <td id=\"T_938e1ffc_bd1d_11ea_a28f_0242ac130202row0_col0\" class=\"data row0 col0\" >Diseases of the musculoskeletal system and connective tissue</td>\n",
       "                        <td id=\"T_938e1ffc_bd1d_11ea_a28f_0242ac130202row0_col1\" class=\"data row0 col1\" >61</td>\n",
       "            </tr>\n",
       "            <tr>\n",
       "                                <td id=\"T_938e1ffc_bd1d_11ea_a28f_0242ac130202row1_col0\" class=\"data row1 col0\" >Patient follow-up</td>\n",
       "                        <td id=\"T_938e1ffc_bd1d_11ea_a28f_0242ac130202row1_col1\" class=\"data row1 col1\" >56</td>\n",
       "            </tr>\n",
       "            <tr>\n",
       "                                <td id=\"T_938e1ffc_bd1d_11ea_a28f_0242ac130202row2_col0\" class=\"data row2 col0\" >Medical consultation</td>\n",
       "                        <td id=\"T_938e1ffc_bd1d_11ea_a28f_0242ac130202row2_col1\" class=\"data row2 col1\" >54</td>\n",
       "            </tr>\n",
       "            <tr>\n",
       "                                <td id=\"T_938e1ffc_bd1d_11ea_a28f_0242ac130202row3_col0\" class=\"data row3 col0\" >Injury, poisoning and certain other consequences of external causes</td>\n",
       "                        <td id=\"T_938e1ffc_bd1d_11ea_a28f_0242ac130202row3_col1\" class=\"data row3 col1\" >43</td>\n",
       "            </tr>\n",
       "            <tr>\n",
       "                                <td id=\"T_938e1ffc_bd1d_11ea_a28f_0242ac130202row4_col0\" class=\"data row4 col0\" >Physiotherapy</td>\n",
       "                        <td id=\"T_938e1ffc_bd1d_11ea_a28f_0242ac130202row4_col1\" class=\"data row4 col1\" >41</td>\n",
       "            </tr>\n",
       "            <tr>\n",
       "                                <td id=\"T_938e1ffc_bd1d_11ea_a28f_0242ac130202row5_col0\" class=\"data row5 col0\" >Dental consultation</td>\n",
       "                        <td id=\"T_938e1ffc_bd1d_11ea_a28f_0242ac130202row5_col1\" class=\"data row5 col1\" >33</td>\n",
       "            </tr>\n",
       "            <tr>\n",
       "                                <td id=\"T_938e1ffc_bd1d_11ea_a28f_0242ac130202row6_col0\" class=\"data row6 col0\" >Diseases of the digestive system</td>\n",
       "                        <td id=\"T_938e1ffc_bd1d_11ea_a28f_0242ac130202row6_col1\" class=\"data row6 col1\" >26</td>\n",
       "            </tr>\n",
       "            <tr>\n",
       "                                <td id=\"T_938e1ffc_bd1d_11ea_a28f_0242ac130202row7_col0\" class=\"data row7 col0\" >Diseases of the genitourinary system</td>\n",
       "                        <td id=\"T_938e1ffc_bd1d_11ea_a28f_0242ac130202row7_col1\" class=\"data row7 col1\" >23</td>\n",
       "            </tr>\n",
       "            <tr>\n",
       "                                <td id=\"T_938e1ffc_bd1d_11ea_a28f_0242ac130202row8_col0\" class=\"data row8 col0\" >Laboratory examination</td>\n",
       "                        <td id=\"T_938e1ffc_bd1d_11ea_a28f_0242ac130202row8_col1\" class=\"data row8 col1\" >13</td>\n",
       "            </tr>\n",
       "            <tr>\n",
       "                                <td id=\"T_938e1ffc_bd1d_11ea_a28f_0242ac130202row9_col0\" class=\"data row9 col0\" >Symptoms, signs and abnormal clinical and laboratory findings, not elsewhere classified</td>\n",
       "                        <td id=\"T_938e1ffc_bd1d_11ea_a28f_0242ac130202row9_col1\" class=\"data row9 col1\" >8</td>\n",
       "            </tr>\n",
       "            <tr>\n",
       "                                <td id=\"T_938e1ffc_bd1d_11ea_a28f_0242ac130202row10_col0\" class=\"data row10 col0\" >Congenital malformations, deformations and chromosomal abnormalities</td>\n",
       "                        <td id=\"T_938e1ffc_bd1d_11ea_a28f_0242ac130202row10_col1\" class=\"data row10 col1\" >8</td>\n",
       "            </tr>\n",
       "            <tr>\n",
       "                                <td id=\"T_938e1ffc_bd1d_11ea_a28f_0242ac130202row11_col0\" class=\"data row11 col0\" >Diseases of the ear and mastoid process</td>\n",
       "                        <td id=\"T_938e1ffc_bd1d_11ea_a28f_0242ac130202row11_col1\" class=\"data row11 col1\" >8</td>\n",
       "            </tr>\n",
       "            <tr>\n",
       "                                <td id=\"T_938e1ffc_bd1d_11ea_a28f_0242ac130202row12_col0\" class=\"data row12 col0\" >Diseases of the eye and adnexa</td>\n",
       "                        <td id=\"T_938e1ffc_bd1d_11ea_a28f_0242ac130202row12_col1\" class=\"data row12 col1\" >8</td>\n",
       "            </tr>\n",
       "            <tr>\n",
       "                                <td id=\"T_938e1ffc_bd1d_11ea_a28f_0242ac130202row13_col0\" class=\"data row13 col0\" >Factors influencing health status and contact with health services</td>\n",
       "                        <td id=\"T_938e1ffc_bd1d_11ea_a28f_0242ac130202row13_col1\" class=\"data row13 col1\" >8</td>\n",
       "            </tr>\n",
       "            <tr>\n",
       "                                <td id=\"T_938e1ffc_bd1d_11ea_a28f_0242ac130202row14_col0\" class=\"data row14 col0\" >Diseases of the nervous system</td>\n",
       "                        <td id=\"T_938e1ffc_bd1d_11ea_a28f_0242ac130202row14_col1\" class=\"data row14 col1\" >8</td>\n",
       "            </tr>\n",
       "            <tr>\n",
       "                                <td id=\"T_938e1ffc_bd1d_11ea_a28f_0242ac130202row15_col0\" class=\"data row15 col0\" >Certain infectious and parasitic diseases</td>\n",
       "                        <td id=\"T_938e1ffc_bd1d_11ea_a28f_0242ac130202row15_col1\" class=\"data row15 col1\" >5</td>\n",
       "            </tr>\n",
       "            <tr>\n",
       "                                <td id=\"T_938e1ffc_bd1d_11ea_a28f_0242ac130202row16_col0\" class=\"data row16 col0\" >Diseases of the skin and subcutaneous tissue</td>\n",
       "                        <td id=\"T_938e1ffc_bd1d_11ea_a28f_0242ac130202row16_col1\" class=\"data row16 col1\" >5</td>\n",
       "            </tr>\n",
       "            <tr>\n",
       "                                <td id=\"T_938e1ffc_bd1d_11ea_a28f_0242ac130202row17_col0\" class=\"data row17 col0\" >Diseases of the respiratory system</td>\n",
       "                        <td id=\"T_938e1ffc_bd1d_11ea_a28f_0242ac130202row17_col1\" class=\"data row17 col1\" >4</td>\n",
       "            </tr>\n",
       "            <tr>\n",
       "                                <td id=\"T_938e1ffc_bd1d_11ea_a28f_0242ac130202row18_col0\" class=\"data row18 col0\" >Unjustified absence</td>\n",
       "                        <td id=\"T_938e1ffc_bd1d_11ea_a28f_0242ac130202row18_col1\" class=\"data row18 col1\" >4</td>\n",
       "            </tr>\n",
       "            <tr>\n",
       "                                <td id=\"T_938e1ffc_bd1d_11ea_a28f_0242ac130202row19_col0\" class=\"data row19 col0\" >Certain conditions originating in the perinatal period</td>\n",
       "                        <td id=\"T_938e1ffc_bd1d_11ea_a28f_0242ac130202row19_col1\" class=\"data row19 col1\" >0</td>\n",
       "            </tr>\n",
       "            <tr>\n",
       "                                <td id=\"T_938e1ffc_bd1d_11ea_a28f_0242ac130202row20_col0\" class=\"data row20 col0\" >Pregnancy, childbirth and the puerperium</td>\n",
       "                        <td id=\"T_938e1ffc_bd1d_11ea_a28f_0242ac130202row20_col1\" class=\"data row20 col1\" >0</td>\n",
       "            </tr>\n",
       "            <tr>\n",
       "                                <td id=\"T_938e1ffc_bd1d_11ea_a28f_0242ac130202row21_col0\" class=\"data row21 col0\" >Neoplasms</td>\n",
       "                        <td id=\"T_938e1ffc_bd1d_11ea_a28f_0242ac130202row21_col1\" class=\"data row21 col1\" >0</td>\n",
       "            </tr>\n",
       "            <tr>\n",
       "                                <td id=\"T_938e1ffc_bd1d_11ea_a28f_0242ac130202row22_col0\" class=\"data row22 col0\" >Mental and behavioural disorders</td>\n",
       "                        <td id=\"T_938e1ffc_bd1d_11ea_a28f_0242ac130202row22_col1\" class=\"data row22 col1\" >0</td>\n",
       "            </tr>\n",
       "            <tr>\n",
       "                                <td id=\"T_938e1ffc_bd1d_11ea_a28f_0242ac130202row23_col0\" class=\"data row23 col0\" >Endocrine, nutritional and metabolic diseases</td>\n",
       "                        <td id=\"T_938e1ffc_bd1d_11ea_a28f_0242ac130202row23_col1\" class=\"data row23 col1\" >0</td>\n",
       "            </tr>\n",
       "            <tr>\n",
       "                                <td id=\"T_938e1ffc_bd1d_11ea_a28f_0242ac130202row24_col0\" class=\"data row24 col0\" >Blood donation</td>\n",
       "                        <td id=\"T_938e1ffc_bd1d_11ea_a28f_0242ac130202row24_col1\" class=\"data row24 col1\" >0</td>\n",
       "            </tr>\n",
       "            <tr>\n",
       "                                <td id=\"T_938e1ffc_bd1d_11ea_a28f_0242ac130202row25_col0\" class=\"data row25 col0\" >Diseases of the blood and blood-forming organs and certain disorders involving the immune mechanism</td>\n",
       "                        <td id=\"T_938e1ffc_bd1d_11ea_a28f_0242ac130202row25_col1\" class=\"data row25 col1\" >0</td>\n",
       "            </tr>\n",
       "            <tr>\n",
       "                                <td id=\"T_938e1ffc_bd1d_11ea_a28f_0242ac130202row26_col0\" class=\"data row26 col0\" >Diseases of the circulatory system</td>\n",
       "                        <td id=\"T_938e1ffc_bd1d_11ea_a28f_0242ac130202row26_col1\" class=\"data row26 col1\" >0</td>\n",
       "            </tr>\n",
       "    </tbody></table>"
      ],
      "text/plain": [
       "<pandas.io.formats.style.Styler at 0x7fe69a56b5d0>"
      ]
     },
     "metadata": {},
     "output_type": "display_data"
    }
   ],
   "source": [
    "mar_abs = df[df['Month of absence']==3].groupby('reason_text', as_index=False)['Absenteeism time in hours'].sum()\n",
    "with pd.option_context('display.max_colwidth', -1):\n",
    "    display(mar_abs.sort_values('Absenteeism time in hours', ascending=False).style.hide_index())"
   ]
  },
  {
   "cell_type": "markdown",
   "execution_count": null,
   "metadata": {},
   "source": [
    "### 2.15 July month Absenteeism hours by Reason"
   ]
  },
  {
   "cell_type": "markdown",
   "execution_count": null,
   "metadata": {},
   "source": [
    ">Looks like the March month & July month reasons are not matching."
   ]
  },
  {
   "cell_type": "code",
   "execution_count": 42,
   "metadata": {},
   "outputs": [
    {
     "data": {
      "text/html": [
       "<style  type=\"text/css\" >\n",
       "</style><table id=\"T_9393071a_bd1d_11ea_a28f_0242ac130202\" ><thead>    <tr>        <th class=\"col_heading level0 col0\" >reason_text</th>        <th class=\"col_heading level0 col1\" >Absenteeism time in hours</th>    </tr></thead><tbody>\n",
       "                <tr>\n",
       "                                <td id=\"T_9393071a_bd1d_11ea_a28f_0242ac130202row0_col0\" class=\"data row0 col0\" >Patient follow-up</td>\n",
       "                        <td id=\"T_9393071a_bd1d_11ea_a28f_0242ac130202row0_col1\" class=\"data row0 col1\" >62</td>\n",
       "            </tr>\n",
       "            <tr>\n",
       "                                <td id=\"T_9393071a_bd1d_11ea_a28f_0242ac130202row1_col0\" class=\"data row1 col0\" >Unjustified absence</td>\n",
       "                        <td id=\"T_9393071a_bd1d_11ea_a28f_0242ac130202row1_col1\" class=\"data row1 col1\" >56</td>\n",
       "            </tr>\n",
       "            <tr>\n",
       "                                <td id=\"T_9393071a_bd1d_11ea_a28f_0242ac130202row2_col0\" class=\"data row2 col0\" >Certain infectious and parasitic diseases</td>\n",
       "                        <td id=\"T_9393071a_bd1d_11ea_a28f_0242ac130202row2_col1\" class=\"data row2 col1\" >40</td>\n",
       "            </tr>\n",
       "            <tr>\n",
       "                                <td id=\"T_9393071a_bd1d_11ea_a28f_0242ac130202row3_col0\" class=\"data row3 col0\" >Medical consultation</td>\n",
       "                        <td id=\"T_9393071a_bd1d_11ea_a28f_0242ac130202row3_col1\" class=\"data row3 col1\" >34</td>\n",
       "            </tr>\n",
       "            <tr>\n",
       "                                <td id=\"T_9393071a_bd1d_11ea_a28f_0242ac130202row4_col0\" class=\"data row4 col0\" >Injury, poisoning and certain other consequences of external causes</td>\n",
       "                        <td id=\"T_9393071a_bd1d_11ea_a28f_0242ac130202row4_col1\" class=\"data row4 col1\" >23</td>\n",
       "            </tr>\n",
       "            <tr>\n",
       "                                <td id=\"T_9393071a_bd1d_11ea_a28f_0242ac130202row5_col0\" class=\"data row5 col0\" >Diseases of the digestive system</td>\n",
       "                        <td id=\"T_9393071a_bd1d_11ea_a28f_0242ac130202row5_col1\" class=\"data row5 col1\" >21</td>\n",
       "            </tr>\n",
       "            <tr>\n",
       "                                <td id=\"T_9393071a_bd1d_11ea_a28f_0242ac130202row6_col0\" class=\"data row6 col0\" >Dental consultation</td>\n",
       "                        <td id=\"T_9393071a_bd1d_11ea_a28f_0242ac130202row6_col1\" class=\"data row6 col1\" >18</td>\n",
       "            </tr>\n",
       "            <tr>\n",
       "                                <td id=\"T_9393071a_bd1d_11ea_a28f_0242ac130202row7_col0\" class=\"data row7 col0\" >Laboratory examination</td>\n",
       "                        <td id=\"T_9393071a_bd1d_11ea_a28f_0242ac130202row7_col1\" class=\"data row7 col1\" >17</td>\n",
       "            </tr>\n",
       "            <tr>\n",
       "                                <td id=\"T_9393071a_bd1d_11ea_a28f_0242ac130202row8_col0\" class=\"data row8 col0\" >Diseases of the genitourinary system</td>\n",
       "                        <td id=\"T_9393071a_bd1d_11ea_a28f_0242ac130202row8_col1\" class=\"data row8 col1\" >16</td>\n",
       "            </tr>\n",
       "            <tr>\n",
       "                                <td id=\"T_9393071a_bd1d_11ea_a28f_0242ac130202row9_col0\" class=\"data row9 col0\" >Diseases of the musculoskeletal system and connective tissue</td>\n",
       "                        <td id=\"T_9393071a_bd1d_11ea_a28f_0242ac130202row9_col1\" class=\"data row9 col1\" >16</td>\n",
       "            </tr>\n",
       "            <tr>\n",
       "                                <td id=\"T_9393071a_bd1d_11ea_a28f_0242ac130202row10_col0\" class=\"data row10 col0\" >Diseases of the nervous system</td>\n",
       "                        <td id=\"T_9393071a_bd1d_11ea_a28f_0242ac130202row10_col1\" class=\"data row10 col1\" >13</td>\n",
       "            </tr>\n",
       "            <tr>\n",
       "                                <td id=\"T_9393071a_bd1d_11ea_a28f_0242ac130202row11_col0\" class=\"data row11 col0\" >Diseases of the eye and adnexa</td>\n",
       "                        <td id=\"T_9393071a_bd1d_11ea_a28f_0242ac130202row11_col1\" class=\"data row11 col1\" >12</td>\n",
       "            </tr>\n",
       "            <tr>\n",
       "                                <td id=\"T_9393071a_bd1d_11ea_a28f_0242ac130202row12_col0\" class=\"data row12 col0\" >Mental and behavioural disorders</td>\n",
       "                        <td id=\"T_9393071a_bd1d_11ea_a28f_0242ac130202row12_col1\" class=\"data row12 col1\" >8</td>\n",
       "            </tr>\n",
       "            <tr>\n",
       "                                <td id=\"T_9393071a_bd1d_11ea_a28f_0242ac130202row13_col0\" class=\"data row13 col0\" >Factors influencing health status and contact with health services</td>\n",
       "                        <td id=\"T_9393071a_bd1d_11ea_a28f_0242ac130202row13_col1\" class=\"data row13 col1\" >8</td>\n",
       "            </tr>\n",
       "            <tr>\n",
       "                                <td id=\"T_9393071a_bd1d_11ea_a28f_0242ac130202row14_col0\" class=\"data row14 col0\" >Symptoms, signs and abnormal clinical and laboratory findings, not elsewhere classified</td>\n",
       "                        <td id=\"T_9393071a_bd1d_11ea_a28f_0242ac130202row14_col1\" class=\"data row14 col1\" >8</td>\n",
       "            </tr>\n",
       "            <tr>\n",
       "                                <td id=\"T_9393071a_bd1d_11ea_a28f_0242ac130202row15_col0\" class=\"data row15 col0\" >Pregnancy, childbirth and the puerperium</td>\n",
       "                        <td id=\"T_9393071a_bd1d_11ea_a28f_0242ac130202row15_col1\" class=\"data row15 col1\" >8</td>\n",
       "            </tr>\n",
       "            <tr>\n",
       "                                <td id=\"T_9393071a_bd1d_11ea_a28f_0242ac130202row16_col0\" class=\"data row16 col0\" >Diseases of the circulatory system</td>\n",
       "                        <td id=\"T_9393071a_bd1d_11ea_a28f_0242ac130202row16_col1\" class=\"data row16 col1\" >2</td>\n",
       "            </tr>\n",
       "            <tr>\n",
       "                                <td id=\"T_9393071a_bd1d_11ea_a28f_0242ac130202row17_col0\" class=\"data row17 col0\" >Certain conditions originating in the perinatal period</td>\n",
       "                        <td id=\"T_9393071a_bd1d_11ea_a28f_0242ac130202row17_col1\" class=\"data row17 col1\" >0</td>\n",
       "            </tr>\n",
       "            <tr>\n",
       "                                <td id=\"T_9393071a_bd1d_11ea_a28f_0242ac130202row18_col0\" class=\"data row18 col0\" >Congenital malformations, deformations and chromosomal abnormalities</td>\n",
       "                        <td id=\"T_9393071a_bd1d_11ea_a28f_0242ac130202row18_col1\" class=\"data row18 col1\" >0</td>\n",
       "            </tr>\n",
       "            <tr>\n",
       "                                <td id=\"T_9393071a_bd1d_11ea_a28f_0242ac130202row19_col0\" class=\"data row19 col0\" >Neoplasms</td>\n",
       "                        <td id=\"T_9393071a_bd1d_11ea_a28f_0242ac130202row19_col1\" class=\"data row19 col1\" >0</td>\n",
       "            </tr>\n",
       "            <tr>\n",
       "                                <td id=\"T_9393071a_bd1d_11ea_a28f_0242ac130202row20_col0\" class=\"data row20 col0\" >Diseases of the skin and subcutaneous tissue</td>\n",
       "                        <td id=\"T_9393071a_bd1d_11ea_a28f_0242ac130202row20_col1\" class=\"data row20 col1\" >0</td>\n",
       "            </tr>\n",
       "            <tr>\n",
       "                                <td id=\"T_9393071a_bd1d_11ea_a28f_0242ac130202row21_col0\" class=\"data row21 col0\" >Endocrine, nutritional and metabolic diseases</td>\n",
       "                        <td id=\"T_9393071a_bd1d_11ea_a28f_0242ac130202row21_col1\" class=\"data row21 col1\" >0</td>\n",
       "            </tr>\n",
       "            <tr>\n",
       "                                <td id=\"T_9393071a_bd1d_11ea_a28f_0242ac130202row22_col0\" class=\"data row22 col0\" >Blood donation</td>\n",
       "                        <td id=\"T_9393071a_bd1d_11ea_a28f_0242ac130202row22_col1\" class=\"data row22 col1\" >0</td>\n",
       "            </tr>\n",
       "            <tr>\n",
       "                                <td id=\"T_9393071a_bd1d_11ea_a28f_0242ac130202row23_col0\" class=\"data row23 col0\" >Diseases of the respiratory system</td>\n",
       "                        <td id=\"T_9393071a_bd1d_11ea_a28f_0242ac130202row23_col1\" class=\"data row23 col1\" >0</td>\n",
       "            </tr>\n",
       "            <tr>\n",
       "                                <td id=\"T_9393071a_bd1d_11ea_a28f_0242ac130202row24_col0\" class=\"data row24 col0\" >Diseases of the blood and blood-forming organs and certain disorders involving the immune mechanism</td>\n",
       "                        <td id=\"T_9393071a_bd1d_11ea_a28f_0242ac130202row24_col1\" class=\"data row24 col1\" >0</td>\n",
       "            </tr>\n",
       "            <tr>\n",
       "                                <td id=\"T_9393071a_bd1d_11ea_a28f_0242ac130202row25_col0\" class=\"data row25 col0\" >Physiotherapy</td>\n",
       "                        <td id=\"T_9393071a_bd1d_11ea_a28f_0242ac130202row25_col1\" class=\"data row25 col1\" >0</td>\n",
       "            </tr>\n",
       "            <tr>\n",
       "                                <td id=\"T_9393071a_bd1d_11ea_a28f_0242ac130202row26_col0\" class=\"data row26 col0\" >Diseases of the ear and mastoid process</td>\n",
       "                        <td id=\"T_9393071a_bd1d_11ea_a28f_0242ac130202row26_col1\" class=\"data row26 col1\" >0</td>\n",
       "            </tr>\n",
       "    </tbody></table>"
      ],
      "text/plain": [
       "<pandas.io.formats.style.Styler at 0x7fe69a333fd0>"
      ]
     },
     "metadata": {},
     "output_type": "display_data"
    }
   ],
   "source": [
    "jul_abs = df[df['Month of absence']==7].groupby('reason_text', as_index=False)['Absenteeism time in hours'].sum()\n",
    "with pd.option_context('display.max_colwidth', -1):\n",
    "    display(jul_abs.sort_values('Absenteeism time in hours', ascending=False).style.hide_index())"
   ]
  },
  {
   "cell_type": "markdown",
   "execution_count": null,
   "metadata": {},
   "source": [
    "# 3. Train and Test Split"
   ]
  },
  {
   "cell_type": "code",
   "execution_count": 43,
   "metadata": {},
   "outputs": [
    {
     "data": {
      "text/html": [
       "<div>\n",
       "<style scoped>\n",
       "    .dataframe tbody tr th:only-of-type {\n",
       "        vertical-align: middle;\n",
       "    }\n",
       "\n",
       "    .dataframe tbody tr th {\n",
       "        vertical-align: top;\n",
       "    }\n",
       "\n",
       "    .dataframe thead th {\n",
       "        text-align: right;\n",
       "    }\n",
       "</style>\n",
       "<table border=\"1\" class=\"dataframe\">\n",
       "  <thead>\n",
       "    <tr style=\"text-align: right;\">\n",
       "      <th></th>\n",
       "      <th>ID</th>\n",
       "      <th>Reason for absence</th>\n",
       "      <th>Month of absence</th>\n",
       "      <th>Day of the week</th>\n",
       "      <th>Seasons</th>\n",
       "      <th>Transportation expense</th>\n",
       "      <th>Distance from Residence to Work</th>\n",
       "      <th>Service time</th>\n",
       "      <th>Age</th>\n",
       "      <th>Work load Averageperday</th>\n",
       "      <th>...</th>\n",
       "      <th>Weight</th>\n",
       "      <th>Height</th>\n",
       "      <th>Body mass index</th>\n",
       "      <th>Absenteeism time in hours</th>\n",
       "      <th>Unnamed: 21</th>\n",
       "      <th>Unnamed: 22</th>\n",
       "      <th>season_name</th>\n",
       "      <th>month_name</th>\n",
       "      <th>reason_text</th>\n",
       "      <th>Education_detail</th>\n",
       "    </tr>\n",
       "  </thead>\n",
       "  <tbody>\n",
       "    <tr>\n",
       "      <th>0</th>\n",
       "      <td>11</td>\n",
       "      <td>26</td>\n",
       "      <td>7</td>\n",
       "      <td>3</td>\n",
       "      <td>1</td>\n",
       "      <td>289</td>\n",
       "      <td>36</td>\n",
       "      <td>13</td>\n",
       "      <td>33</td>\n",
       "      <td>239554</td>\n",
       "      <td>...</td>\n",
       "      <td>90</td>\n",
       "      <td>172</td>\n",
       "      <td>30</td>\n",
       "      <td>4</td>\n",
       "      <td>NaN</td>\n",
       "      <td>NaN</td>\n",
       "      <td>Summer</td>\n",
       "      <td>Jul</td>\n",
       "      <td>Unjustified absence</td>\n",
       "      <td>High School</td>\n",
       "    </tr>\n",
       "    <tr>\n",
       "      <th>1</th>\n",
       "      <td>36</td>\n",
       "      <td>23</td>\n",
       "      <td>7</td>\n",
       "      <td>3</td>\n",
       "      <td>1</td>\n",
       "      <td>118</td>\n",
       "      <td>13</td>\n",
       "      <td>18</td>\n",
       "      <td>50</td>\n",
       "      <td>239554</td>\n",
       "      <td>...</td>\n",
       "      <td>98</td>\n",
       "      <td>178</td>\n",
       "      <td>31</td>\n",
       "      <td>6</td>\n",
       "      <td>NaN</td>\n",
       "      <td>NaN</td>\n",
       "      <td>Summer</td>\n",
       "      <td>Jul</td>\n",
       "      <td>Medical consultation</td>\n",
       "      <td>High School</td>\n",
       "    </tr>\n",
       "    <tr>\n",
       "      <th>2</th>\n",
       "      <td>3</td>\n",
       "      <td>23</td>\n",
       "      <td>7</td>\n",
       "      <td>4</td>\n",
       "      <td>1</td>\n",
       "      <td>179</td>\n",
       "      <td>51</td>\n",
       "      <td>18</td>\n",
       "      <td>38</td>\n",
       "      <td>239554</td>\n",
       "      <td>...</td>\n",
       "      <td>89</td>\n",
       "      <td>170</td>\n",
       "      <td>31</td>\n",
       "      <td>2</td>\n",
       "      <td>NaN</td>\n",
       "      <td>NaN</td>\n",
       "      <td>Summer</td>\n",
       "      <td>Jul</td>\n",
       "      <td>Medical consultation</td>\n",
       "      <td>High School</td>\n",
       "    </tr>\n",
       "    <tr>\n",
       "      <th>3</th>\n",
       "      <td>7</td>\n",
       "      <td>7</td>\n",
       "      <td>7</td>\n",
       "      <td>5</td>\n",
       "      <td>1</td>\n",
       "      <td>279</td>\n",
       "      <td>5</td>\n",
       "      <td>14</td>\n",
       "      <td>39</td>\n",
       "      <td>239554</td>\n",
       "      <td>...</td>\n",
       "      <td>68</td>\n",
       "      <td>168</td>\n",
       "      <td>24</td>\n",
       "      <td>4</td>\n",
       "      <td>NaN</td>\n",
       "      <td>NaN</td>\n",
       "      <td>Summer</td>\n",
       "      <td>Jul</td>\n",
       "      <td>Diseases of the eye and adnexa</td>\n",
       "      <td>High School</td>\n",
       "    </tr>\n",
       "    <tr>\n",
       "      <th>4</th>\n",
       "      <td>11</td>\n",
       "      <td>23</td>\n",
       "      <td>7</td>\n",
       "      <td>5</td>\n",
       "      <td>1</td>\n",
       "      <td>289</td>\n",
       "      <td>36</td>\n",
       "      <td>13</td>\n",
       "      <td>33</td>\n",
       "      <td>239554</td>\n",
       "      <td>...</td>\n",
       "      <td>90</td>\n",
       "      <td>172</td>\n",
       "      <td>30</td>\n",
       "      <td>2</td>\n",
       "      <td>NaN</td>\n",
       "      <td>NaN</td>\n",
       "      <td>Summer</td>\n",
       "      <td>Jul</td>\n",
       "      <td>Medical consultation</td>\n",
       "      <td>High School</td>\n",
       "    </tr>\n",
       "  </tbody>\n",
       "</table>\n",
       "<p>5 rows × 27 columns</p>\n",
       "</div>"
      ],
      "text/plain": [
       "   ID Reason for absence Month of absence Day of the week Seasons  \\\n",
       "0  11                 26                7               3       1   \n",
       "1  36                 23                7               3       1   \n",
       "2   3                 23                7               4       1   \n",
       "3   7                  7                7               5       1   \n",
       "4  11                 23                7               5       1   \n",
       "\n",
       "   Transportation expense  Distance from Residence to Work  Service time  Age  \\\n",
       "0                     289                               36            13   33   \n",
       "1                     118                               13            18   50   \n",
       "2                     179                               51            18   38   \n",
       "3                     279                                5            14   39   \n",
       "4                     289                               36            13   33   \n",
       "\n",
       "   Work load Averageperday  ...  Weight  Height Body mass index  \\\n",
       "0                   239554  ...      90     172              30   \n",
       "1                   239554  ...      98     178              31   \n",
       "2                   239554  ...      89     170              31   \n",
       "3                   239554  ...      68     168              24   \n",
       "4                   239554  ...      90     172              30   \n",
       "\n",
       "   Absenteeism time in hours  Unnamed: 21  Unnamed: 22  season_name  \\\n",
       "0                          4          NaN          NaN       Summer   \n",
       "1                          6          NaN          NaN       Summer   \n",
       "2                          2          NaN          NaN       Summer   \n",
       "3                          4          NaN          NaN       Summer   \n",
       "4                          2          NaN          NaN       Summer   \n",
       "\n",
       "   month_name                     reason_text  Education_detail  \n",
       "0         Jul             Unjustified absence       High School  \n",
       "1         Jul            Medical consultation       High School  \n",
       "2         Jul            Medical consultation       High School  \n",
       "3         Jul  Diseases of the eye and adnexa       High School  \n",
       "4         Jul            Medical consultation       High School  \n",
       "\n",
       "[5 rows x 27 columns]"
      ]
     },
     "execution_count": 43,
     "metadata": {},
     "output_type": "execute_result"
    }
   ],
   "source": [
    "df.head()"
   ]
  },
  {
   "cell_type": "markdown",
   "execution_count": null,
   "metadata": {},
   "source": [
    ">After using the FeatureImportance attribute of RandomForest, We removed four columns from df_features that are Season, Social_smoker, Social Drinker, Education "
   ]
  },
  {
   "cell_type": "raw",
   "execution_count": null,
   "metadata": {},
   "source": [
    "X = df_features\n",
    "y = df['Absenteeism time in hours']\n",
    "X_train, X_test, y_train, y_test = train_test_split(X, y, test_size=0.3, random_state=42)"
   ]
  },
  {
   "cell_type": "markdown",
   "execution_count": null,
   "metadata": {},
   "source": [
    ">This is the challenge in the small dataset. We changed the target variable as Classification\n",
    "\n",
    ">The target variable is Absenteeism in hours. Let us change to classification, so the multiclass variable is '=<4' as '0' and '>4' as '1'. This is just random assumption that employee absence can be half day, full day or more......"
   ]
  },
  {
   "cell_type": "code",
   "execution_count": 44,
   "metadata": {},
   "outputs": [],
   "source": [
    "bins = [25, 35, 45, 55, np.inf]\n",
    "names = [25, 35, 45, 55]\n",
    "df['age_range'] = pd.cut(df['Age'], bins, labels=names)"
   ]
  },
  {
   "cell_type": "code",
   "execution_count": 45,
   "metadata": {},
   "outputs": [],
   "source": [
    "abs_bins = [0, 4, np.inf]\n",
    "abs_names = ['0', '1']\n",
    "df['abs_range'] = pd.cut(df['Absenteeism time in hours'], abs_bins, labels=abs_names)"
   ]
  },
  {
   "cell_type": "code",
   "execution_count": 46,
   "metadata": {},
   "outputs": [],
   "source": [
    "df_features = df[['Reason for absence', 'Month of absence', 'Day of the week', 'Transportation expense', \n",
    "        'Distance from Residence to Work', 'Service time', 'age_range', 'Work load Averageperday', 'Hit target',\n",
    "        'Disciplinary failure', 'Son', 'Pet', 'Weight', \n",
    "        'Height', 'Body mass index']]"
   ]
  },
  {
   "cell_type": "markdown",
   "execution_count": null,
   "metadata": {},
   "source": [
    ">After using the FeatureImportance atttribute of RF Classifier we removed four columns from our df_features they are season, social_smoker, social_drinker, eduaction to increase accuracy."
   ]
  },
  {
   "cell_type": "markdown",
   "execution_count": null,
   "metadata": {},
   "source": [
    "# 3.3 ML Model\n",
    ">Let us split the data"
   ]
  },
  {
   "cell_type": "code",
   "execution_count": 47,
   "metadata": {},
   "outputs": [],
   "source": [
    "X = df_features\n",
    "y = df['abs_range']\n",
    "X_train, X_test, y_train, y_test = train_test_split(X, y, test_size=0.3, random_state=42)"
   ]
  },
  {
   "cell_type": "markdown",
   "execution_count": null,
   "metadata": {},
   "source": [
    ">Gaussian Naive Bayes Classifier"
   ]
  },
  {
   "cell_type": "code",
   "execution_count": 48,
   "metadata": {},
   "outputs": [
    {
     "name": "stdout",
     "output_type": "stream",
     "text": [
      "              precision    recall  f1-score   support\n",
      "\n",
      "           0       0.74      0.82      0.78       143\n",
      "           1       0.59      0.48      0.53        79\n",
      "\n",
      "    accuracy                           0.70       222\n",
      "   macro avg       0.67      0.65      0.65       222\n",
      "weighted avg       0.69      0.70      0.69       222\n",
      "\n"
     ]
    }
   ],
   "source": [
    "from sklearn.naive_bayes import GaussianNB \n",
    "gnb = GaussianNB() \n",
    "gnb.fit(X_train, y_train) \n",
    "  \n",
    "y_pred_nb = gnb.predict(X_test) \n",
    "  \n",
    "print(classification_report(y_test, y_pred_nb))"
   ]
  },
  {
   "cell_type": "markdown",
   "execution_count": null,
   "metadata": {},
   "source": [
    ">AdaBoost Classifier"
   ]
  },
  {
   "cell_type": "code",
   "execution_count": 49,
   "metadata": {},
   "outputs": [
    {
     "name": "stdout",
     "output_type": "stream",
     "text": [
      "              precision    recall  f1-score   support\n",
      "\n",
      "           0       0.80      0.75      0.77       143\n",
      "           1       0.59      0.66      0.62        79\n",
      "\n",
      "    accuracy                           0.72       222\n",
      "   macro avg       0.69      0.70      0.70       222\n",
      "weighted avg       0.72      0.72      0.72       222\n",
      "\n"
     ]
    }
   ],
   "source": [
    "from sklearn.ensemble import AdaBoostClassifier\n",
    "\n",
    "clf = AdaBoostClassifier(n_estimators=5)\n",
    "clf.fit(X_train, y_train)\n",
    "\n",
    "y_pred_adb = clf.predict(X_test)\n",
    "\n",
    "print(classification_report(y_test, y_pred_adb))"
   ]
  },
  {
   "cell_type": "markdown",
   "execution_count": null,
   "metadata": {},
   "source": [
    ">GradientBoost Classifier"
   ]
  },
  {
   "cell_type": "code",
   "execution_count": 50,
   "metadata": {},
   "outputs": [
    {
     "name": "stdout",
     "output_type": "stream",
     "text": [
      "              precision    recall  f1-score   support\n",
      "\n",
      "           0       0.73      0.93      0.82       143\n",
      "           1       0.74      0.37      0.49        79\n",
      "\n",
      "    accuracy                           0.73       222\n",
      "   macro avg       0.74      0.65      0.65       222\n",
      "weighted avg       0.73      0.73      0.70       222\n",
      "\n"
     ]
    }
   ],
   "source": [
    "from sklearn.ensemble import GradientBoostingClassifier\n",
    "clf = GradientBoostingClassifier(n_estimators=5, random_state=0)\n",
    "clf.fit(X_train, y_train)\n",
    "y_pred_gdb = clf.predict(X_test)\n",
    "\n",
    "\n",
    "print(classification_report(y_test, y_pred_gdb))"
   ]
  },
  {
   "cell_type": "markdown",
   "execution_count": null,
   "metadata": {},
   "source": [
    ">RandomForest Classifier"
   ]
  },
  {
   "cell_type": "code",
   "execution_count": 51,
   "metadata": {},
   "outputs": [
    {
     "name": "stdout",
     "output_type": "stream",
     "text": [
      "              precision    recall  f1-score   support\n",
      "\n",
      "           0       0.83      0.77      0.80       143\n",
      "           1       0.63      0.72      0.67        79\n",
      "\n",
      "    accuracy                           0.75       222\n",
      "   macro avg       0.73      0.75      0.74       222\n",
      "weighted avg       0.76      0.75      0.76       222\n",
      "\n"
     ]
    }
   ],
   "source": [
    "model = RandomForestClassifier(n_estimators=300, random_state=0, oob_score=True, n_jobs=-1)\n",
    "model.fit(X_train,y_train)\n",
    "\n",
    "y_pred_rf = model.predict(X_test)\n",
    "\n",
    "print(classification_report(y_test, y_pred_rf))"
   ]
  },
  {
   "cell_type": "markdown",
   "execution_count": null,
   "metadata": {},
   "source": [
    "### ***Feature Importance (Important features that recognised by the RF model)***\n",
    ">This is one way of interpreting the Random Forest Model and we can see the contributions from the features. This is at high level we can understand the importance of features."
   ]
  },
  {
   "cell_type": "code",
   "execution_count": 52,
   "metadata": {},
   "outputs": [
    {
     "data": {
      "image/png": "[encoded data removed]",
      "text/plain": [
       "<Figure size 576x432 with 1 Axes>"
      ]
     },
     "metadata": {},
     "output_type": "display_data"
    }
   ],
   "source": [
    "ax = (pd.Series(model.feature_importances_, index=X.columns)\n",
    "   .nlargest(19)\n",
    "   .plot(kind='barh', figsize=(8,6), color='lightgreen'))\n",
    "plt.show()"
   ]
  },
  {
   "cell_type": "markdown",
   "execution_count": null,
   "metadata": {},
   "source": [
    "# **3.4 Hyper Parameter tuning with Cross Validation**\n",
    ">Hyper parameter tuning is a process is to change the parameters of the model and identify which parameter gives us the better accuracy. The cross validation in Grid & Random Search helps us to use Stratified K-fold to create validation set within trained data. The CV value 5 or above uses Stratified K-fold."
   ]
  },
  {
   "cell_type": "markdown",
   "execution_count": null,
   "metadata": {},
   "source": [
    "### **RandomSearchCV**"
   ]
  },
  {
   "cell_type": "code",
   "execution_count": 53,
   "metadata": {},
   "outputs": [
    {
     "name": "stdout",
     "output_type": "stream",
     "text": [
      "Fitting 5 folds for each of 100 candidates, totalling 500 fits\n"
     ]
    },
    {
     "name": "stderr",
     "output_type": "stream",
     "text": [
      "[Parallel(n_jobs=-1)]: Using backend LokyBackend with 4 concurrent workers.\n",
      "[Parallel(n_jobs=-1)]: Done  33 tasks      | elapsed:   38.2s\n",
      "[Parallel(n_jobs=-1)]: Done 154 tasks      | elapsed:  2.7min\n",
      "[Parallel(n_jobs=-1)]: Done 357 tasks      | elapsed:  5.7min\n",
      "[Parallel(n_jobs=-1)]: Done 500 out of 500 | elapsed:  7.8min finished\n"
     ]
    },
    {
     "data": {
      "text/plain": [
       "RandomizedSearchCV(cv=5, estimator=RandomForestClassifier(), n_iter=100,\n",
       "                   n_jobs=-1,\n",
       "                   param_distributions={'bootstrap': [True, False],\n",
       "                                        'max_depth': [10, 20, 30, 40, 50, 60,\n",
       "                                                      70, 80, 90, 100, 110,\n",
       "                                                      None],\n",
       "                                        'max_features': ['auto', 'sqrt'],\n",
       "                                        'min_samples_leaf': [1, 2, 4],\n",
       "                                        'min_samples_split': [2, 5, 10],\n",
       "                                        'n_estimators': [100, 200, 300, 400,\n",
       "                                                         500, 600, 700, 800,\n",
       "                                                         900, 1000, 1100, 1200,\n",
       "                                                         1300, 1400, 1500, 1600,\n",
       "                                                         1700, 1800, 1900,\n",
       "                                                         2000]},\n",
       "                   random_state=42, verbose=2)"
      ]
     },
     "execution_count": 53,
     "metadata": {},
     "output_type": "execute_result"
    }
   ],
   "source": [
    "from sklearn.model_selection import RandomizedSearchCV\n",
    "n_estimators = [int(x) for x in np.linspace(start=100, stop = 2000, num = 20)]\n",
    "max_features = ['auto', 'sqrt']\n",
    "max_depth = [int(x) for x in np.linspace(10, 110, num = 11)]\n",
    "max_depth.append(None)\n",
    "min_samples_split = [2, 5, 10]\n",
    "min_sample_leaf = [1, 2, 4]\n",
    "bootstrap = [True, False]\n",
    "\n",
    "random_grid = {'n_estimators' : n_estimators,\n",
    "               'max_features' : max_features,\n",
    "               'max_depth' : max_depth,\n",
    "               'min_samples_split' : min_samples_split,\n",
    "               'min_samples_leaf': min_sample_leaf,\n",
    "               'bootstrap' : bootstrap\n",
    "              }\n",
    "\n",
    "rf = RandomForestClassifier()\n",
    "rf_random = RandomizedSearchCV(estimator = rf, param_distributions = random_grid, n_iter = 100, cv=5, error_score= np.nan, \n",
    "                               verbose=2, random_state=42, n_jobs = -1)\n",
    "rf_random.fit(X_train, y_train)"
   ]
  },
  {
   "cell_type": "code",
   "execution_count": 54,
   "metadata": {},
   "outputs": [
    {
     "data": {
      "text/plain": [
       "{'n_estimators': 300,\n",
       " 'min_samples_split': 10,\n",
       " 'min_samples_leaf': 1,\n",
       " 'max_features': 'sqrt',\n",
       " 'max_depth': 10,\n",
       " 'bootstrap': True}"
      ]
     },
     "execution_count": 54,
     "metadata": {},
     "output_type": "execute_result"
    }
   ],
   "source": [
    "# The below will provide us the best parameters from the Random Search CV.\n",
    "\n",
    "rf_random.best_params_"
   ]
  },
  {
   "cell_type": "markdown",
   "execution_count": null,
   "metadata": {},
   "source": [
    ">Let us use the above model to predict & evaluate."
   ]
  },
  {
   "cell_type": "code",
   "execution_count": 55,
   "metadata": {},
   "outputs": [],
   "source": [
    "from sklearn.ensemble import RandomForestClassifier\n",
    "model_random = rf_random.best_estimator_\n",
    "model_random.fit(X_train, y_train)\n",
    "predictions_random = model_random.predict(X_test)"
   ]
  },
  {
   "cell_type": "code",
   "execution_count": 56,
   "metadata": {},
   "outputs": [
    {
     "name": "stdout",
     "output_type": "stream",
     "text": [
      "Accuracy: 0.7522522522522522\n"
     ]
    }
   ],
   "source": [
    "print(\"Accuracy:\",metrics.accuracy_score(y_test, predictions_random))"
   ]
  },
  {
   "cell_type": "code",
   "execution_count": 57,
   "metadata": {},
   "outputs": [
    {
     "name": "stdout",
     "output_type": "stream",
     "text": [
      "              precision    recall  f1-score   support\n",
      "\n",
      "           0       0.82      0.79      0.80       143\n",
      "           1       0.64      0.68      0.66        79\n",
      "\n",
      "    accuracy                           0.75       222\n",
      "   macro avg       0.73      0.74      0.73       222\n",
      "weighted avg       0.76      0.75      0.75       222\n",
      "\n"
     ]
    }
   ],
   "source": [
    "print(classification_report(y_test, predictions_random))"
   ]
  },
  {
   "cell_type": "code",
   "execution_count": 58,
   "metadata": {},
   "outputs": [
    {
     "data": {
      "text/plain": [
       "0.7522522522522523"
      ]
     },
     "execution_count": 58,
     "metadata": {},
     "output_type": "execute_result"
    }
   ],
   "source": [
    "metrics.f1_score(y_test, predictions_random, average='micro')"
   ]
  },
  {
   "cell_type": "markdown",
   "execution_count": null,
   "metadata": {},
   "source": [
    "> Let us check the train & test data for each classification."
   ]
  },
  {
   "cell_type": "code",
   "execution_count": 59,
   "metadata": {},
   "outputs": [],
   "source": [
    "from collections import Counter"
   ]
  },
  {
   "cell_type": "code",
   "execution_count": 60,
   "metadata": {},
   "outputs": [
    {
     "data": {
      "text/plain": [
       "Counter({'0': 321, '1': 197})"
      ]
     },
     "execution_count": 60,
     "metadata": {},
     "output_type": "execute_result"
    }
   ],
   "source": [
    "Counter(y_train)"
   ]
  },
  {
   "cell_type": "code",
   "execution_count": 61,
   "metadata": {},
   "outputs": [
    {
     "data": {
      "text/plain": [
       "Counter({'0': 143, '1': 79})"
      ]
     },
     "execution_count": 61,
     "metadata": {},
     "output_type": "execute_result"
    }
   ],
   "source": [
    "Counter(y_test)"
   ]
  },
  {
   "cell_type": "markdown",
   "execution_count": null,
   "metadata": {},
   "source": [
    ">The above value shows that there are less values in the test/validation set.\n",
    "\n",
    ">The random search gives us the range of the values and using that We can do the Grid Search to tune the model with exact parameters."
   ]
  },
  {
   "cell_type": "markdown",
   "execution_count": null,
   "metadata": {},
   "source": [
    "### **GridSearch**"
   ]
  },
  {
   "cell_type": "code",
   "execution_count": 62,
   "metadata": {},
   "outputs": [
    {
     "name": "stdout",
     "output_type": "stream",
     "text": [
      "Fitting 5 folds for each of 144 candidates, totalling 720 fits\n"
     ]
    },
    {
     "name": "stderr",
     "output_type": "stream",
     "text": [
      "[Parallel(n_jobs=-1)]: Using backend LokyBackend with 4 concurrent workers.\n",
      "[Parallel(n_jobs=-1)]: Done  33 tasks      | elapsed:   10.8s\n",
      "[Parallel(n_jobs=-1)]: Done 154 tasks      | elapsed:   46.6s\n",
      "[Parallel(n_jobs=-1)]: Done 357 tasks      | elapsed:  1.8min\n",
      "[Parallel(n_jobs=-1)]: Done 640 tasks      | elapsed:  3.3min\n",
      "[Parallel(n_jobs=-1)]: Done 720 out of 720 | elapsed:  3.7min finished\n"
     ]
    },
    {
     "data": {
      "text/plain": [
       "GridSearchCV(cv=5, estimator=RandomForestClassifier(), n_jobs=-1,\n",
       "             param_grid={'bootstrap': [True], 'max_depth': [8, 10, 12, 14],\n",
       "                         'max_features': ['sqrt'],\n",
       "                         'min_samples_leaf': [1, 3, 4],\n",
       "                         'min_samples_split': [7, 10, 12],\n",
       "                         'n_estimators': [250, 275, 300, 325]},\n",
       "             verbose=2)"
      ]
     },
     "execution_count": 62,
     "metadata": {},
     "output_type": "execute_result"
    }
   ],
   "source": [
    "from sklearn.model_selection import GridSearchCV\n",
    "\n",
    "param_grid = {\n",
    "    'bootstrap' : [True],\n",
    "    'max_depth' : [8, 10, 12, 14],\n",
    "    'max_features' : ['sqrt'],\n",
    "    'min_samples_leaf' : [1, 3, 4],\n",
    "    'min_samples_split' : [7, 10, 12],\n",
    "    'n_estimators' : [250, 275, 300, 325]\n",
    "    \n",
    "}\n",
    "\n",
    "rf = RandomForestClassifier()\n",
    "grid_search = GridSearchCV(estimator = rf, param_grid = param_grid, cv=5, n_jobs = -1, error_score=np.nan, verbose = 2)\n",
    "\n",
    "grid_search.fit(X_train, y_train)"
   ]
  },
  {
   "cell_type": "code",
   "execution_count": 63,
   "metadata": {},
   "outputs": [
    {
     "data": {
      "text/plain": [
       "{'bootstrap': True,\n",
       " 'max_depth': 10,\n",
       " 'max_features': 'sqrt',\n",
       " 'min_samples_leaf': 1,\n",
       " 'min_samples_split': 7,\n",
       " 'n_estimators': 300}"
      ]
     },
     "execution_count": 63,
     "metadata": {},
     "output_type": "execute_result"
    }
   ],
   "source": [
    "grid_search.best_params_"
   ]
  },
  {
   "cell_type": "code",
   "execution_count": 64,
   "metadata": {},
   "outputs": [],
   "source": [
    "from sklearn.ensemble import RandomForestClassifier\n",
    "model_grid = grid_search.best_estimator_\n",
    "model_grid.fit(X_train, y_train)\n",
    "predictions_grid = model_grid.predict(X_test)"
   ]
  },
  {
   "cell_type": "code",
   "execution_count": 65,
   "metadata": {},
   "outputs": [],
   "source": [
    "from sklearn.metrics import accuracy_score"
   ]
  },
  {
   "cell_type": "code",
   "execution_count": 66,
   "metadata": {},
   "outputs": [
    {
     "name": "stdout",
     "output_type": "stream",
     "text": [
      "              precision    recall  f1-score   support\n",
      "\n",
      "           0       0.82      0.78      0.80       143\n",
      "           1       0.64      0.68      0.66        79\n",
      "\n",
      "    accuracy                           0.75       222\n",
      "   macro avg       0.73      0.73      0.73       222\n",
      "weighted avg       0.75      0.75      0.75       222\n",
      "\n"
     ]
    }
   ],
   "source": [
    "print(classification_report(y_test, predictions_grid)) # Random_Forest"
   ]
  },
  {
   "cell_type": "markdown",
   "execution_count": null,
   "metadata": {},
   "source": [
    "# 4. **Interpreting the Model**\n",
    ">The most common problem we have is to justify the predictions. Why the model has predicted in a way? otherwise it is alwo known as blackbox.\n",
    "\n",
    ">This challenge can be solved easily in the Random Forest by the beautiful python package TreeInterpreter\n",
    "\n",
    ">Let us take one row and try to predict & interpret."
   ]
  },
  {
   "cell_type": "code",
   "execution_count": 67,
   "metadata": {},
   "outputs": [
    {
     "data": {
      "text/plain": [
       "array([[27, 1, 6, 225, 26, 9, 25, 308593, 95, False, 1, 2, 69, 169, 24]],\n",
       "      dtype=object)"
      ]
     },
     "execution_count": 67,
     "metadata": {},
     "output_type": "execute_result"
    }
   ],
   "source": [
    "row = X_test.values[None, 0]\n",
    "row"
   ]
  },
  {
   "cell_type": "markdown",
   "execution_count": null,
   "metadata": {},
   "source": [
    ">Let us predict using Tree Interpreter for the above feature. The Tree Interpreter provides us the prediction, bias of the trainset & contributions to prediction for each feature. I have used the initial model and we can use any model.\n"
   ]
  },
  {
   "cell_type": "code",
   "execution_count": 68,
   "metadata": {},
   "outputs": [],
   "source": [
    "prediction, bias, contributions = ti.predict(model, row)"
   ]
  },
  {
   "cell_type": "markdown",
   "execution_count": null,
   "metadata": {},
   "source": [
    ">Let us check the prediction & bias values."
   ]
  },
  {
   "cell_type": "code",
   "execution_count": 69,
   "metadata": {},
   "outputs": [
    {
     "data": {
      "text/plain": [
       "(array([1., 0.]), array([0.61888674, 0.38111326]))"
      ]
     },
     "execution_count": 69,
     "metadata": {},
     "output_type": "execute_result"
    }
   ],
   "source": [
    "prediction[0], bias[0]"
   ]
  },
  {
   "cell_type": "markdown",
   "execution_count": null,
   "metadata": {},
   "source": [
    ">To check the prediction of the Tree Interpreter, let us predict for the same feature using Random Forest model. Here we are using prediction probability to compare the values."
   ]
  },
  {
   "cell_type": "code",
   "execution_count": 70,
   "metadata": {},
   "outputs": [
    {
     "name": "stdout",
     "output_type": "stream",
     "text": [
      "[[1. 0.]]\n"
     ]
    }
   ],
   "source": [
    "print(model.predict_proba(row))"
   ]
  },
  {
   "cell_type": "markdown",
   "execution_count": null,
   "metadata": {},
   "source": [
    ">The Tree interpreter values and the model's prediction probability matches and the 4th class has the highest value. Now let us check the classess from the model."
   ]
  },
  {
   "cell_type": "code",
   "execution_count": 71,
   "metadata": {},
   "outputs": [
    {
     "data": {
      "text/plain": [
       "array(['0', '1'], dtype=object)"
      ]
     },
     "execution_count": 71,
     "metadata": {},
     "output_type": "execute_result"
    }
   ],
   "source": [
    "model.classes_ "
   ]
  },
  {
   "cell_type": "markdown",
   "execution_count": null,
   "metadata": {},
   "source": [
    ">As per the classes above, the prediction is <4 for the selected row. Let us check that also"
   ]
  },
  {
   "cell_type": "code",
   "execution_count": 72,
   "metadata": {},
   "outputs": [
    {
     "name": "stdout",
     "output_type": "stream",
     "text": [
      "['0']\n"
     ]
    }
   ],
   "source": [
    "print(model.predict(row))"
   ]
  },
  {
   "cell_type": "markdown",
   "execution_count": null,
   "metadata": {},
   "source": [
    ">Most importantly we have to see the contributions for each feature. The below list clearly shows the contributions for all the 4 classes."
   ]
  },
  {
   "cell_type": "code",
   "execution_count": 73,
   "metadata": {},
   "outputs": [
    {
     "name": "stdout",
     "output_type": "stream",
     "text": [
      "Reason for absence [ 0.17362686 -0.17362686]\n",
      "Month of absence [-0.0070875  0.0070875]\n",
      "Day of the week [ 0.01521094 -0.01521094]\n",
      "Transportation expense [ 0.04140354 -0.04140354]\n",
      "Distance from Residence to Work [ 0.0296238 -0.0296238]\n",
      "Service time [ 0.01262935 -0.01262935]\n",
      "age_range [-0.00063077  0.00063077]\n",
      "Work load Averageperday [ 0.01744701 -0.01744701]\n",
      "Hit target [ 0.01727504 -0.01727504]\n",
      "Disciplinary failure [ 0.00788393 -0.00788393]\n",
      "Son [ 0.0115123 -0.0115123]\n",
      "Pet [ 0.0093296 -0.0093296]\n",
      "Weight [ 0.01449721 -0.01449721]\n",
      "Height [ 0.02795139 -0.02795139]\n",
      "Body mass index [ 0.01044056 -0.01044056]\n"
     ]
    }
   ],
   "source": [
    "for c, feature in zip(contributions[0], X.columns):\n",
    "    print (feature, c)"
   ]
  },
  {
   "cell_type": "code",
   "execution_count": 74,
   "metadata": {},
   "outputs": [
    {
     "name": "stdout",
     "output_type": "stream",
     "text": [
      "[[ 0.38111326 -0.38111326]]\n"
     ]
    }
   ],
   "source": [
    "# Let us sum the contributions for this row.\n",
    "\n",
    "print(contributions.sum(axis=1))"
   ]
  },
  {
   "cell_type": "markdown",
   "execution_count": null,
   "metadata": {},
   "source": [
    ">We have the bias from the trainset, let us add the above contributions to the bias."
   ]
  },
  {
   "cell_type": "code",
   "execution_count": 75,
   "metadata": {},
   "outputs": [
    {
     "name": "stdout",
     "output_type": "stream",
     "text": [
      "[[1. 0.]]\n"
     ]
    }
   ],
   "source": [
    "with np.printoptions(precision=3, suppress=True):\n",
    "    print(contributions.sum(axis=1) + bias[0])"
   ]
  },
  {
   "cell_type": "markdown",
   "execution_count": null,
   "metadata": {},
   "source": [
    ">The above matches with earlier prediction probabilities from the model. Now we know exactly the why the model has predicted the 4th class <4."
   ]
  },
  {
   "cell_type": "markdown",
   "execution_count": null,
   "metadata": {},
   "source": [
    "# **5. Conclusions**\n",
    "> =>From this analysis company should predominantly focus on employees who are marking high absenteeism (represented with '>4' or class'1' in an analysis) which is major cause of business loss.\n",
    "\n",
    "> =>Organisation can consider following points for improvement:-\n",
    "> 1. Arrange health camps as health issues are observed amongst employees\n",
    "> 2. Provide paid leaves, Encash leaves.\n",
    "> 3. Rented accomodation for employees who are living far.\n",
    "> 4. Grant excess compensation for overtime and more...."
   ]
  },
  {
   "cell_type": "markdown",
   "execution_count": null,
   "metadata": {},
   "source": [
    "# Thank You \n",
    ">Upvote for appreciation"
   ]
  }
 ],
 "metadata": {
  "kernelspec": {
   "display_name": "Python 3",
   "language": "python",
   "name": "python3"
  },
  "language_info": {
   "codemirror_mode": {
    "name": "ipython",
    "version": 3
   },
   "file_extension": ".py",
   "mimetype": "text/x-python",
   "name": "python",
   "nbconvert_exporter": "python",
   "pygments_lexer": "ipython3",
   "version": "3.7.6"
  }
 },
 "nbformat": 4,
 "nbformat_minor": 4
}
